{
 "cells": [
  {
   "cell_type": "code",
   "execution_count": 1,
   "metadata": {},
   "outputs": [],
   "source": [
    "import h5py\n",
    "import numpy as np\n",
    "from matplotlib import pyplot as plt\n",
    "import scipy.ndimage\n",
    "import yaml\n",
    "from pyevtk.hl import imageToVTK \n",
    "from skimage import io\n",
    "from scipy.ndimage import gaussian_filter\n",
    "from skimage.segmentation import clear_border\n",
    "from skimage.measure import label, regionprops"
   ]
  },
  {
   "cell_type": "markdown",
   "metadata": {},
   "source": [
    "# read parameters"
   ]
  },
  {
   "cell_type": "code",
   "execution_count": 2,
   "metadata": {},
   "outputs": [
    {
     "name": "stdout",
     "output_type": "stream",
     "text": [
      "{'data_folder': '/home/ebauman/Data/zebrafish_xenograft/', 'output_folder': '/home/ebauman/Data/zebrafish_xenograft/'}\n"
     ]
    }
   ],
   "source": [
    "with open(\"../base/parameters.yml\") as file:\n",
    "    parameters = yaml.load(file, Loader=yaml.FullLoader)\n",
    "with open(\"../local/parameters.yml\") as file:\n",
    "    parameters_local = yaml.load(file, Loader=yaml.FullLoader)\n",
    "\n",
    "# overwrite global parameters with local setting\n",
    "for key in parameters_local:\n",
    "    parameters[key] = parameters_local[key]\n",
    "    \n",
    "print(parameters)"
   ]
  },
  {
   "cell_type": "markdown",
   "metadata": {},
   "source": [
    "# specify and read tiff images"
   ]
  },
  {
   "cell_type": "code",
   "execution_count": 19,
   "metadata": {},
   "outputs": [],
   "source": [
    "data_folder = parameters[\"data_folder\"]\n",
    "subfolder = \"03_Processed_Data/3D/\"\n",
    "\n",
    "filename = \"200818_LBT001_1dpi_Pos001.tif.tiff\"\n",
    "filename_short = \"200818_LBT001_1dpi_Pos001\"\n",
    "\n",
    "image = np.array(io.imread(data_folder + subfolder + filename))\n",
    "\n",
    "\n",
    "#filename_short = \"200811_Pos002\"\n",
    "#macrophage_file = \"200811 mpeg-mCherry x kdrl-lynEYFP LBT123 1in27 GFP 2dpf 1dpi Ti30min_Mark_and_Find003_Position002_macrophages3D.tif\"\n",
    "#im_macrophages = np.array(io.imread(data_folder + macrophage_file))\n",
    "#tumor_file = \"200811 mpeg-mCherry x kdrl-lynEYFP LBT123 1in27 GFP 2dpf 1dpi Ti30min_Mark_and_Find003_Position002_tumor3D.tif\"\n",
    "#im_tumor = np.array(io.imread(data_folder + tumor_file))\n",
    "#vessel_file = \"200811 mpeg-mCherry x kdrl-lynEYFP LBT123 1in27 GFP 2dpf 1dpi Ti30min_Mark_and_Find003_Position002_vessels3D.tif\"\n",
    "#im_vessel = np.array(io.imread(data_folder + vessel_file))\n",
    "#im_vessel.shape"
   ]
  },
  {
   "cell_type": "code",
   "execution_count": 20,
   "metadata": {},
   "outputs": [
    {
     "name": "stdout",
     "output_type": "stream",
     "text": [
      "(19, 127, 1024, 1024, 3)\n"
     ]
    }
   ],
   "source": [
    "print(image.shape)\n",
    "im_tumor = image[:,:,:,:,0]\n",
    "im_macrophages = image[:,:,:,:,1]\n",
    "im_vessel = image[:,:,:,:,2]"
   ]
  },
  {
   "cell_type": "markdown",
   "metadata": {},
   "source": [
    "# smooth images"
   ]
  },
  {
   "cell_type": "code",
   "execution_count": 21,
   "metadata": {},
   "outputs": [],
   "source": [
    "sigma0 = 5\n",
    "im_macrophage_smoothed = gaussian_filter(im_macrophages[0,:,:,:], sigma = sigma0)\n",
    "im_tumor_smoothed = gaussian_filter(im_tumor[0,:,:,:], sigma = sigma0)\n",
    "im_vessel_smoothed = gaussian_filter(im_vessel[0,:,:,:], sigma = sigma0)"
   ]
  },
  {
   "cell_type": "code",
   "execution_count": 22,
   "metadata": {
    "scrolled": true
   },
   "outputs": [
    {
     "data": {
      "text/plain": [
       "<matplotlib.image.AxesImage at 0x7fc8e923e4f0>"
      ]
     },
     "execution_count": 22,
     "metadata": {},
     "output_type": "execute_result"
    },
    {
     "data": {
      "image/png": "[encoded data removed]",
      "text/plain": [
       "<Figure size 1080x1080 with 1 Axes>"
      ]
     },
     "metadata": {
      "needs_background": "light"
     },
     "output_type": "display_data"
    }
   ],
   "source": [
    "fig, ax = plt.subplots(figsize=(15,15))\n",
    "ax.imshow(im_macrophage_smoothed[50,:,:])"
   ]
  },
  {
   "cell_type": "markdown",
   "metadata": {},
   "source": [
    "# save time series"
   ]
  },
  {
   "cell_type": "code",
   "execution_count": 23,
   "metadata": {},
   "outputs": [
    {
     "name": "stdout",
     "output_type": "stream",
     "text": [
      "000\n",
      "001\n",
      "002\n",
      "003\n",
      "004\n",
      "005\n",
      "006\n",
      "007\n",
      "008\n",
      "009\n",
      "010\n",
      "011\n",
      "012\n",
      "013\n",
      "014\n",
      "015\n",
      "016\n",
      "017\n",
      "018\n"
     ]
    }
   ],
   "source": [
    "sigma0 = 3\n",
    "output_folder = parameters[\"output_folder\"] + \"/03_Processed_Data/paraview_out/\"\n",
    "\n",
    "for frame in range(0,im_vessel.shape[0]):\n",
    "    print(str(frame).zfill(3))    \n",
    "    \n",
    "    im_macrophages_smoothed = gaussian_filter(im_macrophages[frame,:,:,:], sigma = sigma0)\n",
    "    im_tumor_smoothed = gaussian_filter(im_tumor[frame,:,:,:], sigma = sigma0)    \n",
    "    im_vessel_smoothed = gaussian_filter(im_vessel[frame,:,:,:], sigma = sigma0)    \n",
    "        \n",
    "    time_stamp = str(frame).zfill(3)\n",
    "    filename = output_folder + filename_short + \"-\" + time_stamp\n",
    "    \n",
    "    imageToVTK(filename, cellData = {\"tumor\": im_tumor_smoothed, \n",
    "                                     \"macrophages\" : im_macrophages_smoothed, \n",
    "                                     \"vessel\": im_vessel_smoothed})"
   ]
  }
 ],
 "metadata": {
  "kernelspec": {
   "display_name": "Python 3",
   "language": "python",
   "name": "python3"
  },
  "language_info": {
   "codemirror_mode": {
    "name": "ipython",
    "version": 3
   },
   "file_extension": ".py",
   "mimetype": "text/x-python",
   "name": "python",
   "nbconvert_exporter": "python",
   "pygments_lexer": "ipython3",
   "version": "3.9.2"
  }
 },
 "nbformat": 4,
 "nbformat_minor": 4
}
