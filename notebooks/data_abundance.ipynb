{
 "cells": [
  {
   "cell_type": "code",
   "execution_count": 5,
   "metadata": {},
   "outputs": [],
   "source": [
    "import sys, os\n",
    "import numpy as np\n",
    "import pandas as pd\n",
    "from matplotlib import pyplot as plt\n",
    "import seaborn as sns"
   ]
  },
  {
   "cell_type": "code",
   "execution_count": 7,
   "metadata": {},
   "outputs": [],
   "source": [
    "sys.path.append(\"../python-scripts/\")\n",
    "import functions_common"
   ]
  },
  {
   "cell_type": "code",
   "execution_count": 11,
   "metadata": {},
   "outputs": [
    {
     "data": {
      "text/plain": [
       "{'data_folder': '/home/fjodor/Data/zebrafish_xenograft/data_structured/',\n",
       " 'output_folder': '/home/fjodor/Data/zebrafish_xenograft/data_structured/thresholding_sauvola/',\n",
       " 'key_file_name': 'Details_imaging_data_3D.xls',\n",
       " 'dimension': '2D',\n",
       " 'channel_tumor': 0,\n",
       " 'channel_macrophages': 1,\n",
       " 'channel_vessels': 2,\n",
       " 'substract_tumor_from_macrophages': False,\n",
       " 'thresholding_method': 'sauvola',\n",
       " 'window_size_thresholding': 31,\n",
       " 'otsu_thresholding': False,\n",
       " 'sigma': 3,\n",
       " 'segmentation_method': 'ilastik',\n",
       " 'macrophages_small_objects': 2500,\n",
       " 'export_masks': 'vtk',\n",
       " 'use_gpu': False,\n",
       " 'output_filename': 'image_001'}"
      ]
     },
     "execution_count": 11,
     "metadata": {},
     "output_type": "execute_result"
    }
   ],
   "source": [
    "parameters = functions_common.read_parameters()\n",
    "parameters"
   ]
  },
  {
   "cell_type": "code",
   "execution_count": 20,
   "metadata": {},
   "outputs": [
    {
     "name": "stdout",
     "output_type": "stream",
     "text": [
      "Index(['filename', 'short_name', 'DOF', 'Tg', 'cancer_cells', 'fluorescence',\n",
      "       'dpf', 'dpi', 'dt_min', 'PixelSizeX', 'PixelSizeY', 'PixelSizeZ',\n",
      "       '#embryos', 'Time-lapses', 'Segmentation strategies', 'Unnamed: 15',\n",
      "       'Unnamed: 16', 'Unnamed: 17', 'Unnamed: 18', 'Unnamed: 19',\n",
      "       'Unnamed: 20', 'Unnamed: 21', 'Unnamed: 22', 'Remarks \\nsegmentation',\n",
      "       'Remarks'],\n",
      "      dtype='object')\n"
     ]
    },
    {
     "data": {
      "text/html": [
       "<div>\n",
       "<style scoped>\n",
       "    .dataframe tbody tr th:only-of-type {\n",
       "        vertical-align: middle;\n",
       "    }\n",
       "\n",
       "    .dataframe tbody tr th {\n",
       "        vertical-align: top;\n",
       "    }\n",
       "\n",
       "    .dataframe thead th {\n",
       "        text-align: right;\n",
       "    }\n",
       "</style>\n",
       "<table border=\"1\" class=\"dataframe\">\n",
       "  <thead>\n",
       "    <tr style=\"text-align: right;\">\n",
       "      <th></th>\n",
       "      <th>filename</th>\n",
       "      <th>short_name</th>\n",
       "      <th>DOF</th>\n",
       "      <th>Tg</th>\n",
       "      <th>cancer_cells</th>\n",
       "      <th>fluorescence</th>\n",
       "      <th>dpf</th>\n",
       "      <th>dpi</th>\n",
       "      <th>dt_min</th>\n",
       "      <th>PixelSizeX</th>\n",
       "      <th>...</th>\n",
       "      <th>Unnamed: 15</th>\n",
       "      <th>Unnamed: 16</th>\n",
       "      <th>Unnamed: 17</th>\n",
       "      <th>Unnamed: 18</th>\n",
       "      <th>Unnamed: 19</th>\n",
       "      <th>Unnamed: 20</th>\n",
       "      <th>Unnamed: 21</th>\n",
       "      <th>Unnamed: 22</th>\n",
       "      <th>Remarks \\nsegmentation</th>\n",
       "      <th>Remarks</th>\n",
       "    </tr>\n",
       "  </thead>\n",
       "  <tbody>\n",
       "    <tr>\n",
       "      <th>0</th>\n",
       "      <td>NaN</td>\n",
       "      <td>NaN</td>\n",
       "      <td>NaN</td>\n",
       "      <td>NaN</td>\n",
       "      <td>NaN</td>\n",
       "      <td>NaN</td>\n",
       "      <td>NaN</td>\n",
       "      <td>NaN</td>\n",
       "      <td>NaN</td>\n",
       "      <td>NaN</td>\n",
       "      <td>...</td>\n",
       "      <td>NaN</td>\n",
       "      <td>NaN</td>\n",
       "      <td>ilastik</td>\n",
       "      <td>NaN</td>\n",
       "      <td>NaN</td>\n",
       "      <td>Otsu</td>\n",
       "      <td>NaN</td>\n",
       "      <td>NaN</td>\n",
       "      <td>NaN</td>\n",
       "      <td>NaN</td>\n",
       "    </tr>\n",
       "    <tr>\n",
       "      <th>1</th>\n",
       "      <td>NaN</td>\n",
       "      <td>NaN</td>\n",
       "      <td>NaN</td>\n",
       "      <td>NaN</td>\n",
       "      <td>NaN</td>\n",
       "      <td>NaN</td>\n",
       "      <td>NaN</td>\n",
       "      <td>NaN</td>\n",
       "      <td>NaN</td>\n",
       "      <td>NaN</td>\n",
       "      <td>...</td>\n",
       "      <td>C2</td>\n",
       "      <td>C3</td>\n",
       "      <td>C1</td>\n",
       "      <td>C2</td>\n",
       "      <td>C3</td>\n",
       "      <td>C1</td>\n",
       "      <td>C2</td>\n",
       "      <td>C3</td>\n",
       "      <td>NaN</td>\n",
       "      <td>NaN</td>\n",
       "    </tr>\n",
       "    <tr>\n",
       "      <th>2</th>\n",
       "      <td>200804 mpeg-mCherry x kdrl-lynEYFP LBT070 1in2...</td>\n",
       "      <td>200804_LBT070_1dpi_Pos001</td>\n",
       "      <td>04/08/2020</td>\n",
       "      <td>mpeg:mCherry; kdrl:lynEYFP</td>\n",
       "      <td>LBT070</td>\n",
       "      <td>1/27 GFP</td>\n",
       "      <td>2.0</td>\n",
       "      <td>1.0</td>\n",
       "      <td>30.0</td>\n",
       "      <td>0.4329</td>\n",
       "      <td>...</td>\n",
       "      <td>NaN</td>\n",
       "      <td>NaN</td>\n",
       "      <td>NaN</td>\n",
       "      <td>NaN</td>\n",
       "      <td>NaN</td>\n",
       "      <td>NaN</td>\n",
       "      <td>NaN</td>\n",
       "      <td>NaN</td>\n",
       "      <td>NaN</td>\n",
       "      <td>NaN</td>\n",
       "    </tr>\n",
       "    <tr>\n",
       "      <th>3</th>\n",
       "      <td>200804 mpeg-mCherry x kdrl-lynEYFP LBT070 1in2...</td>\n",
       "      <td>200804_LBT070_1dpi_Pos003</td>\n",
       "      <td>04/08/2020</td>\n",
       "      <td>mpeg:mCherry; kdrl:lynEYFP</td>\n",
       "      <td>LBT070</td>\n",
       "      <td>1/27 GFP</td>\n",
       "      <td>2.0</td>\n",
       "      <td>1.0</td>\n",
       "      <td>30.0</td>\n",
       "      <td>0.4329</td>\n",
       "      <td>...</td>\n",
       "      <td>NaN</td>\n",
       "      <td>NaN</td>\n",
       "      <td>NaN</td>\n",
       "      <td>NaN</td>\n",
       "      <td>NaN</td>\n",
       "      <td>NaN</td>\n",
       "      <td>NaN</td>\n",
       "      <td>NaN</td>\n",
       "      <td>NaN</td>\n",
       "      <td>NaN</td>\n",
       "    </tr>\n",
       "    <tr>\n",
       "      <th>4</th>\n",
       "      <td>200804 mpeg-mCherry x kdrl-lynEYFP LBT070 1in2...</td>\n",
       "      <td>200804_LBT070_1dpi_Pos005</td>\n",
       "      <td>04/08/2020</td>\n",
       "      <td>mpeg:mCherry; kdrl:lynEYFP</td>\n",
       "      <td>LBT070</td>\n",
       "      <td>1/27 GFP</td>\n",
       "      <td>2.0</td>\n",
       "      <td>1.0</td>\n",
       "      <td>30.0</td>\n",
       "      <td>0.4329</td>\n",
       "      <td>...</td>\n",
       "      <td>NaN</td>\n",
       "      <td>NaN</td>\n",
       "      <td>NaN</td>\n",
       "      <td>NaN</td>\n",
       "      <td>NaN</td>\n",
       "      <td>NaN</td>\n",
       "      <td>NaN</td>\n",
       "      <td>NaN</td>\n",
       "      <td>NaN</td>\n",
       "      <td>NaN</td>\n",
       "    </tr>\n",
       "  </tbody>\n",
       "</table>\n",
       "<p>5 rows × 25 columns</p>\n",
       "</div>"
      ],
      "text/plain": [
       "                                            filename  \\\n",
       "0                                                NaN   \n",
       "1                                                NaN   \n",
       "2  200804 mpeg-mCherry x kdrl-lynEYFP LBT070 1in2...   \n",
       "3  200804 mpeg-mCherry x kdrl-lynEYFP LBT070 1in2...   \n",
       "4  200804 mpeg-mCherry x kdrl-lynEYFP LBT070 1in2...   \n",
       "\n",
       "                  short_name         DOF                          Tg  \\\n",
       "0                        NaN         NaN                         NaN   \n",
       "1                        NaN         NaN                         NaN   \n",
       "2  200804_LBT070_1dpi_Pos001  04/08/2020  mpeg:mCherry; kdrl:lynEYFP   \n",
       "3  200804_LBT070_1dpi_Pos003  04/08/2020  mpeg:mCherry; kdrl:lynEYFP   \n",
       "4  200804_LBT070_1dpi_Pos005  04/08/2020  mpeg:mCherry; kdrl:lynEYFP   \n",
       "\n",
       "  cancer_cells fluorescence  dpf  dpi  dt_min  PixelSizeX  ...  Unnamed: 15  \\\n",
       "0          NaN          NaN  NaN  NaN     NaN         NaN  ...          NaN   \n",
       "1          NaN          NaN  NaN  NaN     NaN         NaN  ...           C2   \n",
       "2       LBT070     1/27 GFP  2.0  1.0    30.0      0.4329  ...          NaN   \n",
       "3       LBT070     1/27 GFP  2.0  1.0    30.0      0.4329  ...          NaN   \n",
       "4       LBT070     1/27 GFP  2.0  1.0    30.0      0.4329  ...          NaN   \n",
       "\n",
       "   Unnamed: 16  Unnamed: 17 Unnamed: 18 Unnamed: 19 Unnamed: 20 Unnamed: 21  \\\n",
       "0          NaN      ilastik         NaN         NaN        Otsu         NaN   \n",
       "1           C3           C1          C2          C3          C1          C2   \n",
       "2          NaN          NaN         NaN         NaN         NaN         NaN   \n",
       "3          NaN          NaN         NaN         NaN         NaN         NaN   \n",
       "4          NaN          NaN         NaN         NaN         NaN         NaN   \n",
       "\n",
       "  Unnamed: 22 Remarks \\nsegmentation Remarks  \n",
       "0         NaN                    NaN     NaN  \n",
       "1          C3                    NaN     NaN  \n",
       "2         NaN                    NaN     NaN  \n",
       "3         NaN                    NaN     NaN  \n",
       "4         NaN                    NaN     NaN  \n",
       "\n",
       "[5 rows x 25 columns]"
      ]
     },
     "execution_count": 20,
     "metadata": {},
     "output_type": "execute_result"
    }
   ],
   "source": [
    "key_file = functions_common.read_key_file(parameters)\n",
    "print(key_file.columns)\n",
    "key_file.head()"
   ]
  },
  {
   "cell_type": "code",
   "execution_count": 33,
   "metadata": {},
   "outputs": [
    {
     "data": {
      "image/png": "[encoded data removed]",
      "text/plain": [
       "<Figure size 1440x720 with 1 Axes>"
      ]
     },
     "metadata": {},
     "output_type": "display_data"
    }
   ],
   "source": [
    "sns.set(font_scale = 2)\n",
    "fig, ax = plt.subplots( figsize=(20,10))\n",
    "sns.countplot(x = \"cancer_cells\", hue= \"dpf\", data= key_file, ax=ax, palette=\"Set2\")\n",
    "ax.set_xlabel(\"cancer cells\")\n",
    "plt.savefig(\"data_abundance.png\")"
   ]
  },
  {
   "cell_type": "code",
   "execution_count": 28,
   "metadata": {},
   "outputs": [
    {
     "data": {
      "text/plain": [
       "<AxesSubplot:xlabel='dpf', ylabel='count'>"
      ]
     },
     "execution_count": 28,
     "metadata": {},
     "output_type": "execute_result"
    },
    {
     "data": {
      "image/png": "[encoded data removed]",
      "text/plain": [
       "<Figure size 1440x720 with 2 Axes>"
      ]
     },
     "metadata": {
      "needs_background": "light"
     },
     "output_type": "display_data"
    }
   ],
   "source": [
    "fig, ax = plt.subplots(2,1, figsize=(20,10))\n",
    "sns.countplot(x = \"cancer_cells\", hue= \"dpf\", data= key_file, ax=ax[0])\n",
    "sns.countplot(x = \"dpf\", hue= \"cancer_cells\", data= key_file, ax=ax[1])"
   ]
  }
 ],
 "metadata": {
  "kernelspec": {
   "display_name": "Python 3",
   "language": "python",
   "name": "python3"
  },
  "language_info": {
   "codemirror_mode": {
    "name": "ipython",
    "version": 3
   },
   "file_extension": ".py",
   "mimetype": "text/x-python",
   "name": "python",
   "nbconvert_exporter": "python",
   "pygments_lexer": "ipython3",
   "version": "3.8.5"
  }
 },
 "nbformat": 4,
 "nbformat_minor": 4
}
