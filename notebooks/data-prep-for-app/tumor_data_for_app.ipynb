{
 "cells": [
  {
   "cell_type": "code",
   "execution_count": null,
   "id": "8347aaf8",
   "metadata": {},
   "outputs": [],
   "source": [
    "import sys, os\n",
    "import numpy as np\n",
    "import pandas as pd\n",
    "from matplotlib import pyplot as plt\n",
    "import seaborn as sns\n",
    "\n",
    "sys.path.append(\"../../python-scripts/\")\n",
    "import functions_common"
   ]
  },
  {
   "cell_type": "code",
   "execution_count": null,
   "id": "c6197b28",
   "metadata": {},
   "outputs": [],
   "source": [
    "raw_tumor_1dpi = pd.read_csv(\"2022-01-03_tumor_volumes_1dpi.csv\")\n",
    "raw_tumor_5dpi = pd.read_csv(\"2022-01-03_tumor_volumes_5dpi.csv\")\n",
    "print(raw_tumor_1dpi.columns)\n",
    "print(len(raw_tumor_1dpi.index))\n",
    "print(len(raw_tumor_5dpi.index))\n",
    "\n",
    "data_tumor_1dpi = pd.read_csv(\"../../app/tumor_volumes_1dpi.csv\")\n",
    "data_tumor_5dpi = pd.read_csv(\"../../app/tumor_volumes_5dpi.csv\")\n",
    "print(len(data_tumor_1dpi.index))\n",
    "print(len(data_tumor_5dpi.index))\n",
    "\n",
    "data_tumor_1dpi.columns"
   ]
  },
  {
   "cell_type": "code",
   "execution_count": null,
   "id": "3a72239e",
   "metadata": {},
   "outputs": [],
   "source": [
    "cols_for_app = ['short_name', 'fish_id', 'time_point', 'tumor_volume', 'dt_min',\n",
    "       'time_in_min', 'cancer_cells', 'dpi', 'PixelSizeX', 'PixelSizeY',\n",
    "       'PixelSizeZ', 'time_in_h', 'tumor_volume_um', \"macrophage_mean_distance\"]"
   ]
  },
  {
   "cell_type": "code",
   "execution_count": null,
   "id": "cccabf4d",
   "metadata": {},
   "outputs": [],
   "source": [
    "tumor_volumes_and_distances_1dpi = raw_tumor_1dpi[cols_for_app]\n",
    "tumor_volumes_and_distances_5dpi = raw_tumor_5dpi[cols_for_app]\n",
    "\n",
    "tumor_volumes_and_distances_1dpi.to_csv(\"tumor_volumes_and_distances_1dpi.csv\", index = False)\n",
    "tumor_volumes_and_distances_5dpi.to_csv(\"tumor_volumes_and_distances_5dpi.csv\", index = False)"
   ]
  }
 ],
 "metadata": {
  "kernelspec": {
   "display_name": "Python 3",
   "language": "python",
   "name": "python3"
  },
  "language_info": {
   "codemirror_mode": {
    "name": "ipython",
    "version": 3
   },
   "file_extension": ".py",
   "mimetype": "text/x-python",
   "name": "python",
   "nbconvert_exporter": "python",
   "pygments_lexer": "ipython3",
   "version": "3.8.8"
  }
 },
 "nbformat": 4,
 "nbformat_minor": 5
}
