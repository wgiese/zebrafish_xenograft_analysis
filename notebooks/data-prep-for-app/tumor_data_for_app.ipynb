{
 "cells": [
  {
   "cell_type": "code",
   "execution_count": 2,
   "id": "8347aaf8",
   "metadata": {},
   "outputs": [],
   "source": [
    "import pandas as pd"
   ]
  },
  {
   "cell_type": "code",
   "execution_count": 12,
   "id": "c6197b28",
   "metadata": {},
   "outputs": [
    {
     "name": "stdout",
     "output_type": "stream",
     "text": [
      "Index(['short_name', 'fish_id', 'time_point', 'tumor_volume', 'dt_min',\n",
      "       'time_in_min', 'cancer_cells', 'macrophage_distances_all',\n",
      "       'macrophage_eccentricities_all', 'macrophage_perimeter_all',\n",
      "       'macrophage_major_minor_ratio_all', 'macrophage_area_all',\n",
      "       'macrophage_eccentricities_found2Dto3D_all',\n",
      "       'macrophage_perimeter_found2Dto3D_all',\n",
      "       'macrophage_major_minor_ratio_found2Dto3D_all',\n",
      "       'macrophage_area_ratio_found2Dto3D_all',\n",
      "       'macrophage_eccentricities_notFound2Dto3D_all',\n",
      "       'macrophage_perimeter_notFound2Dto3D_all',\n",
      "       'macrophage_major_minor_ratio_notFound2Dto3D_all',\n",
      "       'macrophage_area_ratio_notFound2Dto3D_all', 'macrophage_number',\n",
      "       'macrophage_mean_distance', 'macrophage_mean_eccentricities',\n",
      "       'macrophage_mean_perimeter', 'macrophage_mean_major_minor_ratio',\n",
      "       'macrophage_mean_area', 'macrophage_number_found2Dto3D',\n",
      "       'macrophage_number_notFound2Dto3D', 'macrophage_ratioOfFound',\n",
      "       'macrophage_mean_eccentricities_found2Dto3D',\n",
      "       'macrophage_mean_perimeter_found2Dto3D',\n",
      "       'macrophage_mean_major_minor_ratio_found2Dto3D',\n",
      "       'macrophage_mean_area_ratio_found2Dto3D',\n",
      "       'macrophage_mean_eccentricities_notFound2Dto3D',\n",
      "       'macrophage_mean_perimeter_notFound2Dto3D',\n",
      "       'macrophage_mean_major_minor_ratio_notFound2Dto3D',\n",
      "       'macrophage_mean_area_ratio_notFound2Dto3D', 'dpi', 'PixelSizeX',\n",
      "       'PixelSizeY', 'PixelSizeZ', 'time_in_h', 'tumor_volume_um'],\n",
      "      dtype='object')\n",
      "4221\n",
      "1519\n",
      "3222\n",
      "1519\n"
     ]
    },
    {
     "data": {
      "text/plain": [
       "Index(['short_name', 'fish_id', 'time_point', 'tumor_volume', 'dt_min',\n",
       "       'time_in_min', 'cancer_cells', 'dpi', 'PixelSizeX', 'PixelSizeY',\n",
       "       'PixelSizeZ', 'time_in_h', 'tumor_volume_um'],\n",
       "      dtype='object')"
      ]
     },
     "execution_count": 12,
     "metadata": {},
     "output_type": "execute_result"
    }
   ],
   "source": [
    "raw_tumor_1dpi = pd.read_csv(\"2022-01-03_tumor_volumes_1dpi.csv\")\n",
    "raw_tumor_5dpi = pd.read_csv(\"2022-01-03_tumor_volumes_5dpi.csv\")\n",
    "print(raw_tumor_1dpi.columns)\n",
    "print(len(raw_tumor_1dpi.index))\n",
    "print(len(raw_tumor_5dpi.index))\n",
    "\n",
    "data_tumor_1dpi = pd.read_csv(\"../../app/tumor_volumes_1dpi.csv\")\n",
    "data_tumor_5dpi = pd.read_csv(\"../../app/tumor_volumes_5dpi.csv\")\n",
    "print(len(data_tumor_1dpi.index))\n",
    "print(len(data_tumor_5dpi.index))\n",
    "\n",
    "data_tumor_1dpi.columns"
   ]
  },
  {
   "cell_type": "code",
   "execution_count": 9,
   "id": "3a72239e",
   "metadata": {},
   "outputs": [],
   "source": [
    "cols_for_app = ['short_name', 'fish_id', 'time_point', 'tumor_volume', 'dt_min',\n",
    "       'time_in_min', 'cancer_cells', 'dpi', 'PixelSizeX', 'PixelSizeY',\n",
    "       'PixelSizeZ', 'time_in_h', 'tumor_volume_um', \"macrophage_mean_distance\"]"
   ]
  },
  {
   "cell_type": "code",
   "execution_count": 15,
   "id": "cccabf4d",
   "metadata": {},
   "outputs": [],
   "source": [
    "tumor_volumes_and_distances_1dpi = raw_tumor_1dpi[cols_for_app]\n",
    "tumor_volumes_and_distances_5dpi = raw_tumor_5dpi[cols_for_app]\n",
    "\n",
    "tumor_volumes_and_distances_1dpi.to_csv(\"tumor_volumes_and_distances_1dpi.csv\", index = False)\n",
    "tumor_volumes_and_distances_5dpi.to_csv(\"tumor_volumes_and_distances_5dpi.csv\", index = False)"
   ]
  }
 ],
 "metadata": {
  "kernelspec": {
   "display_name": "Python 3 (ipykernel)",
   "language": "python",
   "name": "python3"
  },
  "language_info": {
   "codemirror_mode": {
    "name": "ipython",
    "version": 3
   },
   "file_extension": ".py",
   "mimetype": "text/x-python",
   "name": "python",
   "nbconvert_exporter": "python",
   "pygments_lexer": "ipython3",
   "version": "3.8.13"
  }
 },
 "nbformat": 4,
 "nbformat_minor": 5
}
