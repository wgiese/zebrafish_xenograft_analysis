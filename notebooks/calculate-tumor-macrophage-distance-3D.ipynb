{
 "cells": [
  {
   "cell_type": "code",
   "execution_count": null,
   "metadata": {},
   "outputs": [],
   "source": [
    "import h5py\n",
    "import numpy as np\n",
    "from matplotlib import pyplot as plt\n",
    "import scipy.ndimage\n",
    "import os\n",
    "import pandas as pd\n",
    "import imageio\n",
    "from skimage import io\n",
    "from skimage.filters import threshold_otsu\n",
    "from scipy.ndimage import gaussian_filter\n",
    "import matplotlib\n",
    "import yaml\n",
    "\n",
    "font = {'family': 'normal', 'weight' : 'bold', 'size' : 22}\n",
    "matplotlib.rc('font', **font)"
   ]
  },
  {
   "cell_type": "markdown",
   "metadata": {},
   "source": [
    "# read parameters"
   ]
  },
  {
   "cell_type": "code",
   "execution_count": null,
   "metadata": {},
   "outputs": [],
   "source": [
    "with open(\"../base/parameters.yml\") as file:\n",
    "    parameters = yaml.load(file, Loader=yaml.FullLoader)\n",
    "with open(\"../local/parameters.yml\") as file:\n",
    "    parameters_local = yaml.load(file, Loader=yaml.FullLoader)\n",
    "\n",
    "# overwrite global parameters with local setting\n",
    "for key in parameters_local:\n",
    "    parameters[key] = parameters_local[key]\n",
    "    \n",
    "print(parameters)"
   ]
  },
  {
   "cell_type": "markdown",
   "metadata": {},
   "source": [
    "# read tiff images"
   ]
  },
  {
   "cell_type": "code",
   "execution_count": null,
   "metadata": {},
   "outputs": [],
   "source": [
    "data_folder = parameters[\"data_folder\"]\n",
    "macrophage_file = \"/200825/Macrophages-200825-Position-3-movie.tif\"\n",
    "\n",
    "im_macrophages = np.array(io.imread(data_folder + macrophage_file))\n",
    "print(np.max(im_macrophages))\n",
    "print(np.min(im_macrophages))\n",
    "im_macrophages.shape\n",
    "#im_macrophages = gaussian_filter(im_macrophages, sigma= 5)\n",
    "fig, ax = plt.subplots(figsize=(15,10))\n",
    "ax.hist(im_macrophages[0,:,:,:].flatten(),bins=255)\n",
    "thresh_val_macrophages = 8\n",
    "ax.axvline(thresh_val_macrophages , linestyle = \"dashed\")"
   ]
  },
  {
   "cell_type": "code",
   "execution_count": null,
   "metadata": {},
   "outputs": [],
   "source": [
    "tumor_file = \"/200825/Tumor-200825-Position-3-movie.tif\"\n",
    "\n",
    "im_tumor = io.imread(data_folder + tumor_file)\n",
    "print(np.max(im_tumor))\n",
    "print(np.min(im_tumor))\n",
    "im_tumor.shape\n",
    "#hist, bins = np.histogram(im_tumor[0,:,:,:])\n",
    "fig, ax = plt.subplots(figsize=(15,10))\n",
    "ax.hist(im_tumor[0,:,:,:].flatten(),bins=255)#,bins)\n",
    "thresh_val_tumor = 10\n",
    "ax.axvline(thresh_val_tumor , linestyle = \"dashed\")"
   ]
  },
  {
   "cell_type": "code",
   "execution_count": null,
   "metadata": {},
   "outputs": [],
   "source": [
    "mask_macrophages = np.where(np.array(im_macrophages) > thresh_val_macrophages, True, False)\n",
    "\n",
    "if np.sum(mask_macrophages==True) > np.sum(mask_macrophages==False):\n",
    "    mask_macrophages = np.where(mask_macrophages, False, True)"
   ]
  },
  {
   "cell_type": "code",
   "execution_count": null,
   "metadata": {},
   "outputs": [],
   "source": [
    "#mask_vessels = np.where(np.array(im_vessel) > thresh_val_vessel, True, False)#\n",
    "\n",
    "#if np.sum(mask_vessels==True) > np.sum(mask_vessels==False)\n",
    "#    mask_vessels = np.where(mask_vessels, False, True)"
   ]
  },
  {
   "cell_type": "code",
   "execution_count": null,
   "metadata": {},
   "outputs": [],
   "source": [
    "mask_tumor = np.where(np.array(im_tumor) > thresh_val_tumor, True, False)\n",
    "\n",
    "if np.sum(mask_tumor==True) > np.sum(mask_tumor==False):\n",
    "    mask_tumor = np.where(mask_tumor, False, True)"
   ]
  },
  {
   "cell_type": "code",
   "execution_count": null,
   "metadata": {},
   "outputs": [],
   "source": [
    "#fig, ax = plt.subplots(figsize=(15,15))\n",
    "#ax.imshow(mask_vessels[0,62,:,:])"
   ]
  },
  {
   "cell_type": "markdown",
   "metadata": {},
   "source": [
    "# Calculate distance transform"
   ]
  },
  {
   "cell_type": "code",
   "execution_count": null,
   "metadata": {},
   "outputs": [],
   "source": [
    "im_tumor_single_frame = gaussian_filter(im_tumor[10,:,:,:], sigma= 5)\n",
    "thresh_val = 5\n",
    "mask_tumor_single_frame = np.where(np.array(im_tumor_single_frame) > thresh_val, True, False)\n",
    "\n",
    "if np.sum(mask_tumor_single_frame==True) > np.sum(mask_tumor_single_frame==False):\n",
    "    mask_tumor_single_frame = np.where(mask_tumor_single_frame, False, True)\n",
    "#fig, ax = plt.subplots(figsize=(15,10))\n",
    "#ax.hist(im_tumor_single_frame[:,:,:].flatten(),bins=255)#,bins)\n"
   ]
  },
  {
   "cell_type": "code",
   "execution_count": null,
   "metadata": {},
   "outputs": [],
   "source": [
    "tumor_distance = scipy.ndimage.morphology.distance_transform_edt(np.invert(mask_tumor_single_frame[:,:,:]))"
   ]
  },
  {
   "cell_type": "code",
   "execution_count": null,
   "metadata": {},
   "outputs": [],
   "source": [
    "fig, ax = plt.subplots(figsize=(15,15))\n",
    "ax.imshow(tumor_distance[40,:,:])"
   ]
  },
  {
   "cell_type": "code",
   "execution_count": null,
   "metadata": {},
   "outputs": [],
   "source": [
    "distances = []\n",
    "frame = 31\n",
    "\n",
    "tumor_single_frame = gaussian_filter(im_tumor[frame,:,:,:], sigma= 5)\n",
    "thresh_val = 5\n",
    "mask_tumor_single_frame = np.where(np.array(tumor_single_frame) > thresh_val, True, False)\n",
    "\n",
    "if np.sum(mask_tumor_single_frame==True) > np.sum(mask_tumor_single_frame==False):\n",
    "    mask_tumor_single_frame = np.where(mask_tumor_single_frame, False, True)\n",
    "    \n"
   ]
  },
  {
   "cell_type": "code",
   "execution_count": null,
   "metadata": {},
   "outputs": [],
   "source": [
    "tumor_distances = scipy.ndimage.morphology.distance_transform_edt(np.invert(mask_tumor_single_frame[:,:,:])).flatten()"
   ]
  },
  {
   "cell_type": "code",
   "execution_count": null,
   "metadata": {},
   "outputs": [],
   "source": [
    "mean_distance = np.mean(tumor_distances[mask_macrophages[frame,:,:,:].flatten()])\n",
    "mean_distance"
   ]
  },
  {
   "cell_type": "code",
   "execution_count": null,
   "metadata": {},
   "outputs": [],
   "source": [
    "distances = []\n",
    "\n",
    "for frame in range(im_tumor.shape[0]):\n",
    "    tumor_single_frame = gaussian_filter(im_tumor[frame,:,:,:], sigma= 5)\n",
    "    thresh_val = 5\n",
    "    mask_tumor_single_frame = np.where(np.array(tumor_single_frame) > thresh_val, True, False)\n",
    "    if np.sum(mask_tumor_single_frame==True) > np.sum(mask_tumor_single_frame==False):\n",
    "        mask_tumor_single_frame = np.where(mask_tumor_single_frame, False, True)\n",
    "    \n",
    "    tumor_distances = scipy.ndimage.morphology.distance_transform_edt(np.invert(mask_tumor_single_frame[:,:,:])).flatten()\n",
    "\n",
    "    macrophage_single_frame = gaussian_filter(im_macrophages[frame,:,:,:], sigma= 5)\n",
    "    thresh_val = 5\n",
    "    mask_macrophage_single_frame = np.where(np.array(macrophage_single_frame) > thresh_val, True, False)\n",
    "    if np.sum(mask_macrophage_single_frame==True) > np.sum(mask_macrophage_single_frame==False):\n",
    "        mask_macrophage_single_frame = np.where(mask_macrophage_single_frame, False, True)\n",
    "    \n",
    "    \n",
    "    #mean_distance = np.mean(tumor_distances[mask_macrophages[frame,:,:,:].flatten()])\n",
    "    mean_distance = np.mean(tumor_distances[mask_macrophage_single_frame.flatten()])\n",
    "    print(\"Frame: %s\" % frame)\n",
    "    print(mean_distance)\n",
    "    distances.append(mean_distance)"
   ]
  },
  {
   "cell_type": "code",
   "execution_count": null,
   "metadata": {},
   "outputs": [],
   "source": [
    "fig, ax = plt.subplots(figsize=(15,10))\n",
    "time = range(1,len(distances )+1)\n",
    "ax.plot(time, distances , marker='x', color = \"black\", linestyle = \"dashed\", linewidth = 2, markersize = 10)# atistics_df[\"frame\"],statistics_df[\"macrophage_number\"], color= \"black\")\n",
    "ax.set_ylabel(\"macrophage to tumor distance\")\n",
    "ax.set_xlabel(\"time frame\")\n",
    "ax.set_ylim(0,150)\n",
    "fig.savefig(\"macrophage-tumor-distance-3D.pdf\")\n",
    "fig.savefig(\"macrophage-tumor-distance-3D.png\")"
   ]
  }
 ],
 "metadata": {
  "kernelspec": {
   "display_name": "Python 3",
   "language": "python",
   "name": "python3"
  },
  "language_info": {
   "codemirror_mode": {
    "name": "ipython",
    "version": 3
   },
   "file_extension": ".py",
   "mimetype": "text/x-python",
   "name": "python",
   "nbconvert_exporter": "python",
   "pygments_lexer": "ipython3",
   "version": "3.8.8"
  }
 },
 "nbformat": 4,
 "nbformat_minor": 4
}
