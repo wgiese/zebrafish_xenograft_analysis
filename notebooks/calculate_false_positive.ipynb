{
 "cells": [
  {
   "cell_type": "code",
   "execution_count": null,
   "id": "hungarian-prophet",
   "metadata": {},
   "outputs": [],
   "source": [
    "import sys, os\n",
    "import numpy as np\n",
    "import pandas as pd\n",
    "from matplotlib import pyplot as plt\n",
    "import seaborn as sns"
   ]
  },
  {
   "cell_type": "code",
   "execution_count": null,
   "id": "adaptive-silence",
   "metadata": {},
   "outputs": [],
   "source": [
    "sys.path.append(\"../python-scripts/\")\n",
    "import functions_common"
   ]
  },
  {
   "cell_type": "code",
   "execution_count": null,
   "id": "sapphire-entry",
   "metadata": {},
   "outputs": [],
   "source": [
    "parameters = functions_common.read_parameters()\n",
    "parameters"
   ]
  },
  {
   "cell_type": "code",
   "execution_count": null,
   "id": "scheduled-crowd",
   "metadata": {
    "scrolled": true
   },
   "outputs": [],
   "source": [
    "macrophages_annotated = pd.read_csv(\"/home/wgiese/Data/zebrafish_xenograft/04_Processed_Data/01_Annotated_Macrophages/200811_LBT123_1dpi_Pos005.csv\", sep =\";\")\n",
    "macrophages_annotated"
   ]
  },
  {
   "cell_type": "code",
   "execution_count": null,
   "id": "greater-netscape",
   "metadata": {},
   "outputs": [],
   "source": [
    "macrophages_algorithm = pd.read_csv(\"/home/wgiese/Data/zebrafish_xenograft/output_data/threshold_otsu/macrophage_properties_200811_LBT123_1dpi_Pos005.csv\")\n",
    "macrophages_algorithm"
   ]
  },
  {
   "cell_type": "code",
   "execution_count": null,
   "id": "sensitive-elimination",
   "metadata": {},
   "outputs": [],
   "source": [
    "time_frames = min(len(macrophages_algorithm[\"time_frame\"].unique()),len(macrophages_annotated[\"time_point\"].unique()))\n",
    "                                  \n",
    "detection_rates_df = pd.DataFrame()    \n",
    "    \n",
    "counter =1\n",
    "\n",
    "for tp in range(time_frames):\n",
    "    macrophages_algorithm_ = macrophages_algorithm[macrophages_algorithm[\"time_frame\"] == tp]\n",
    "    macrophages_annotated_ =macrophages_annotated[macrophages_annotated[\"time_point\"] == tp]\n",
    "    pairs_df, pairs_df_ = functions_common.get_macrophage_pairs(parameters, macrophages_algorithm_, macrophages_annotated_)\n",
    "    \n",
    "    detection_rates_df.at[counter, \"time_frame\"] = tp\n",
    "    detection_rates_df.at[counter, \"macrophages_algorithm\"] = len(macrophages_algorithm_.index)\n",
    "    detection_rates_df.at[counter, \"macrophages_annotated\"] = len(macrophages_annotated_.index)\n",
    "    detection_rates_df.at[counter, \"macrophage_pairs\"] = len(pairs_df.index)\n",
    "    \n",
    "    \n",
    "    if len(macrophages_algorithm_.index) > 0:\n",
    "        false_positive_rate = len(pairs_df.index)/len(macrophages_algorithm_.index)\n",
    "        print(false_positive_rate)\n",
    "    if len(macrophages_annotated_.index) > 0:\n",
    "        false_negative_rate = len(pairs_df.index)/len(macrophages_annotated_.index)\n",
    "        print(false_negative_rate)\n",
    "        \n",
    "    detection_rates_df.at[counter, \"false_positive_rate\"] = 1.0 - false_positive_rate\n",
    "    detection_rates_df.at[counter, \"false_negative_rate\"] = 1.0 - false_negative_rate\n",
    "        \n",
    "    counter += 1"
   ]
  },
  {
   "cell_type": "code",
   "execution_count": null,
   "id": "animal-samuel",
   "metadata": {},
   "outputs": [],
   "source": [
    "detection_rates_df"
   ]
  },
  {
   "cell_type": "code",
   "execution_count": null,
   "id": "blessed-bradley",
   "metadata": {},
   "outputs": [],
   "source": [
    "fig, ax = plt.subplots(figsize=(20,10))\n",
    "sns.lineplot(data = detection_rates_df, x=\"time_frame\", y=\"macrophages_algorithm\", ax= ax)\n",
    "sns.lineplot(data = detection_rates_df, x=\"time_frame\", y=\"macrophages_annotated\", ax= ax)\n",
    "sns.lineplot(data = detection_rates_df, x=\"time_frame\", y=\"macrophage_pairs\", ax= ax)\n",
    "ax.set_ylim(0,35)"
   ]
  },
  {
   "cell_type": "code",
   "execution_count": null,
   "id": "approximate-engineer",
   "metadata": {},
   "outputs": [],
   "source": [
    "fig, ax = plt.subplots(figsize=(20,10))\n",
    "sns.lineplot(data = detection_rates_df, x=\"time_frame\", y=\"false_positive_rate\", ax= ax)\n",
    "sns.lineplot(data = detection_rates_df, x=\"time_frame\", y=\"false_negative_rate\", ax= ax)\n",
    "ax.set_ylim(0.0,1.1)"
   ]
  }
 ],
 "metadata": {
  "kernelspec": {
   "display_name": "Python 3",
   "language": "python",
   "name": "python3"
  },
  "language_info": {
   "codemirror_mode": {
    "name": "ipython",
    "version": 3
   },
   "file_extension": ".py",
   "mimetype": "text/x-python",
   "name": "python",
   "nbconvert_exporter": "python",
   "pygments_lexer": "ipython3",
   "version": "3.8.8"
  }
 },
 "nbformat": 4,
 "nbformat_minor": 5
}
