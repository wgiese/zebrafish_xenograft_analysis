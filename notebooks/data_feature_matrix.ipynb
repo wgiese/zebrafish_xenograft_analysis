{
 "cells": [
  {
   "cell_type": "code",
   "execution_count": null,
   "id": "f77f034d",
   "metadata": {},
   "outputs": [],
   "source": [
    "import pandas as pd"
   ]
  },
  {
   "cell_type": "code",
   "execution_count": null,
   "id": "737cb39e",
   "metadata": {},
   "outputs": [],
   "source": [
    "data = pd.read_csv(\"/home/fjodor/Work/projects/zebrafish-xenograft-analysis/zebrafish_xenograft_analysis/app/macrophage_props_1dpi_and_5dpi.csv\")"
   ]
  },
  {
   "cell_type": "code",
   "execution_count": null,
   "id": "53675c9f",
   "metadata": {},
   "outputs": [],
   "source": [
    "circularity_thresh = 0.5\n",
    "\n",
    "t_1dpi_start = 26\n",
    "t_1dpi_mid = 32\n",
    "t_1dpi_end = 38\n",
    "\n",
    "t_5dpi_start = 115\n",
    "t_5dpi_end = 118"
   ]
  },
  {
   "cell_type": "code",
   "execution_count": null,
   "id": "3995ba4f",
   "metadata": {},
   "outputs": [],
   "source": [
    "data.columns"
   ]
  },
  {
   "cell_type": "code",
   "execution_count": null,
   "id": "e695c664",
   "metadata": {},
   "outputs": [],
   "source": [
    "data_round = data[data[\"circularity\"]]\n",
    "data_remified = "
   ]
  },
  {
   "cell_type": "code",
   "execution_count": null,
   "id": "6c4d904f",
   "metadata": {},
   "outputs": [],
   "source": [
    "matrix_cols = ['feature'] + list(data['cancer_cells'].unique())\n",
    "#matrix_cols = matrix_cols.append(data.columns)\n",
    "print(matrix_cols)\n",
    "data_cluster =  pd.DataFrame(columns = matrix_cols)\n",
    "data_cluster"
   ]
  },
  {
   "cell_type": "code",
   "execution_count": null,
   "id": "4cdfb71b",
   "metadata": {},
   "outputs": [],
   "source": [
    "def add_feature(data, data_matrix, feature):\n",
    "    for cancer_cell in data['cancer_cells'].unique():\n",
    "    data_cancer_cell = data[data['cancer_cells']==cancer_cell]\n",
    "    data_cluster.at[index ,\"feature\"] = \"area_1dpi_start\"\n",
    "    data_cancer_cell_1dp1_start = data_cancer_cell[data_cancer_cell['time_in_h'] <= t_1dpi_start]\n",
    "    data_cluster.at[index,cancer_cell] = data_cancer_cell_1dp1_start['area_mum2'].mean()\n",
    "    "
   ]
  },
  {
   "cell_type": "code",
   "execution_count": null,
   "id": "d3bec94e",
   "metadata": {},
   "outputs": [],
   "source": [
    "#data_cluster.at[0,\"feature\"] = \"area_start\"\n",
    "\n",
    "\n",
    "\n",
    "for cancer_cell in data['cancer_cells'].unique():\n",
    "    data_cancer_cell = data[data['cancer_cells']==cancer_cell]\n",
    "    data_cluster.at[index ,\"feature\"] = \"area_1dpi_start\"\n",
    "    data_cancer_cell_1dp1_start = data_cancer_cell[data_cancer_cell['time_in_h'] <= t_1dpi_start]\n",
    "    data_cluster.at[index,cancer_cell] = data_cancer_cell_1dp1_start['area_mum2'].mean()\n",
    "index +=1\n",
    "\n",
    "for cancer_cell in data['cancer_cells'].unique():\n",
    "    data_cancer_cell = data[data['cancer_cells']==cancer_cell]\n",
    "    data_cluster.at[index,\"feature\"] = \"area_1dpi_mid\"\n",
    "    data_cancer_cell_1dp1_mid = data_cancer_cell[data_cancer_cell['time_in_h'] <= t_1dpi_mid +1]\n",
    "    data_cancer_cell_1dp1_mid = data_cancer_cell_1dp1_mid[data_cancer_cell_1dp1_mid ['time_in_h'] >= t_1dpi_mid -1]\n",
    "    data_cluster.at[index,cancer_cell] = data_cancer_cell_1dp1_mid['area_mum2'].mean()\n",
    "index +=1\n",
    "for cancer_cell in data['cancer_cells'].unique():\n",
    "    data_cancer_cell = data[data['cancer_cells']==cancer_cell]\n",
    "    data_cluster.at[index,\"feature\"] = \"area_1dpi_end\"\n",
    "    data_cancer_cell_1dp1_end = data_cancer_cell[data_cancer_cell['time_in_h'] <= t_1dpi_end]\n",
    "    data_cluster.at[index,cancer_cell] = data_cancer_cell_1dp1_end['area_mum2'].mean()\n",
    "index +=1\n",
    "\n",
    "\n",
    "for cancer_cell in data['cancer_cells'].unique():\n",
    "    data_cancer_cell = data[data['cancer_cells']==cancer_cell]\n",
    "    data_cluster.at[index,\"feature\"] = \"area_5dpi_start\"\n",
    "    data_cancer_cell_1dp1_end = data_cancer_cell[data_cancer_cell['time_in_h'] <= t_5dpi_start]\n",
    "    data_cluster.at[index,cancer_cell] = data_cancer_cell_1dp1_end['area_mum2'].mean()\n",
    "index +=1\n",
    "\n",
    "for cancer_cell in data['cancer_cells'].unique():\n",
    "    data_cancer_cell = data[data['cancer_cells']==cancer_cell]\n",
    "    data_cluster.at[index,\"feature\"] = \"area_5dpi_end\"\n",
    "    data_cancer_cell_1dp1_end = data_cancer_cell[data_cancer_cell['time_in_h'] >= t_5dpi_end]\n",
    "    data_cluster.at[index,cancer_cell] = data_cancer_cell_1dp1_end['area_mum2'].mean()\n",
    "index +=1"
   ]
  },
  {
   "cell_type": "code",
   "execution_count": null,
   "id": "dca3abde",
   "metadata": {},
   "outputs": [],
   "source": [
    "data_cluster"
   ]
  },
  {
   "cell_type": "code",
   "execution_count": null,
   "id": "298a8e30",
   "metadata": {},
   "outputs": [],
   "source": [
    "for cancer_cell in data['cancer_cells'].unique():\n",
    "    data_cancer_cell = data[data['cancer_cells']==cancer_cell]\n",
    "    data_cluster.at[index ,\"feature\"] = \"circularity_1dpi_start\"\n",
    "    data_cancer_cell_1dp1_start = data_cancer_cell[data_cancer_cell['time_in_h'] <= t_1dpi_start]\n",
    "    data_cluster.at[index,cancer_cell] = data_cancer_cell_1dp1_start['circularity'].mean()\n",
    "index +=1\n",
    "\n",
    "for cancer_cell in data['cancer_cells'].unique():\n",
    "    data_cancer_cell = data[data['cancer_cells']==cancer_cell]\n",
    "    data_cluster.at[index,\"feature\"] = \"circularity_1dpi_mid\"\n",
    "    data_cancer_cell_1dp1_mid = data_cancer_cell[data_cancer_cell['time_in_h'] <= t_1dpi_mid +1]\n",
    "    data_cancer_cell_1dp1_mid = data_cancer_cell_1dp1_mid[data_cancer_cell_1dp1_mid ['time_in_h'] >= t_1dpi_mid -1]\n",
    "    data_cluster.at[index,cancer_cell] = data_cancer_cell_1dp1_mid['circularity'].mean()\n",
    "index +=1\n",
    "for cancer_cell in data['cancer_cells'].unique():\n",
    "    data_cancer_cell = data[data['cancer_cells']==cancer_cell]\n",
    "    data_cluster.at[index,\"feature\"] = \"circularity_1dpi_end\"\n",
    "    data_cancer_cell_1dp1_end = data_cancer_cell[data_cancer_cell['time_in_h'] <= t_1dpi_end]\n",
    "    data_cluster.at[index,cancer_cell] = data_cancer_cell_1dp1_end['circularity'].mean()\n",
    "index +=1\n",
    "\n",
    "\n",
    "for cancer_cell in data['cancer_cells'].unique():\n",
    "    data_cancer_cell = data[data['cancer_cells']==cancer_cell]\n",
    "    data_cluster.at[index,\"feature\"] = \"circularity_5dpi_start\"\n",
    "    data_cancer_cell_1dp1_end = data_cancer_cell[data_cancer_cell['time_in_h'] <= t_5dpi_start]\n",
    "    data_cluster.at[index,cancer_cell] = data_cancer_cell_1dp1_end['circularity'].mean()\n",
    "index +=1\n",
    "\n",
    "for cancer_cell in data['cancer_cells'].unique():\n",
    "    data_cancer_cell = data[data['cancer_cells']==cancer_cell]\n",
    "    data_cluster.at[index,\"feature\"] = \"circularity_5dpi_end\"\n",
    "    data_cancer_cell_1dp1_end = data_cancer_cell[data_cancer_cell['time_in_h'] >= t_5dpi_end]\n",
    "    data_cluster.at[index,cancer_cell] = data_cancer_cell_1dp1_end['circularity'].mean()\n",
    "index +=1"
   ]
  },
  {
   "cell_type": "code",
   "execution_count": null,
   "id": "98e402b9",
   "metadata": {},
   "outputs": [],
   "source": [
    "data_cluster"
   ]
  },
  {
   "cell_type": "code",
   "execution_count": null,
   "id": "ccaa430f",
   "metadata": {},
   "outputs": [],
   "source": [
    "for cancer_cell in data['cancer_cells'].unique():\n",
    "    data_cancer_cell = data[data['cancer_cells']==cancer_cell]\n",
    "    data_cluster.at[index ,\"feature\"] = \"eccentricity_1dpi_start\"\n",
    "    data_cancer_cell_1dp1_start = data_cancer_cell[data_cancer_cell['time_in_h'] <= t_1dpi_start]\n",
    "    data_cluster.at[index,cancer_cell] = data_cancer_cell_1dp1_start['eccentricity'].mean()\n",
    "index +=1\n",
    "\n",
    "for cancer_cell in data['cancer_cells'].unique():\n",
    "    data_cancer_cell = data[data['cancer_cells']==cancer_cell]\n",
    "    data_cluster.at[index,\"feature\"] = \"eccentricity_1dpi_mid\"\n",
    "    data_cancer_cell_1dp1_mid = data_cancer_cell[data_cancer_cell['time_in_h'] <= t_1dpi_mid +1]\n",
    "    data_cancer_cell_1dp1_mid = data_cancer_cell_1dp1_mid[data_cancer_cell_1dp1_mid ['time_in_h'] >= t_1dpi_mid -1]\n",
    "    data_cluster.at[index,cancer_cell] = data_cancer_cell_1dp1_mid['eccentricity'].mean()\n",
    "index +=1\n",
    "for cancer_cell in data['cancer_cells'].unique():\n",
    "    data_cancer_cell = data[data['cancer_cells']==cancer_cell]\n",
    "    data_cluster.at[index,\"feature\"] = \"eccentricity_1dpi_end\"\n",
    "    data_cancer_cell_1dp1_end = data_cancer_cell[data_cancer_cell['time_in_h'] <= t_1dpi_end]\n",
    "    data_cluster.at[index,cancer_cell] = data_cancer_cell_1dp1_end['eccentricity'].mean()\n",
    "index +=1\n",
    "\n",
    "\n",
    "for cancer_cell in data['cancer_cells'].unique():\n",
    "    data_cancer_cell = data[data['cancer_cells']==cancer_cell]\n",
    "    data_cluster.at[index,\"feature\"] = \"eccentricity_5dpi_start\"\n",
    "    data_cancer_cell_1dp1_end = data_cancer_cell[data_cancer_cell['time_in_h'] <= t_5dpi_start]\n",
    "    data_cluster.at[index,cancer_cell] = data_cancer_cell_1dp1_end['eccentricity'].mean()\n",
    "index +=1\n",
    "\n",
    "for cancer_cell in data['cancer_cells'].unique():\n",
    "    data_cancer_cell = data[data['cancer_cells']==cancer_cell]\n",
    "    data_cluster.at[index,\"feature\"] = \"eccentricity_5dpi_end\"\n",
    "    data_cancer_cell_1dp1_end = data_cancer_cell[data_cancer_cell['time_in_h'] >= t_5dpi_end]\n",
    "    data_cluster.at[index,cancer_cell] = data_cancer_cell_1dp1_end['eccentricity'].mean()\n",
    "index +=1"
   ]
  },
  {
   "cell_type": "code",
   "execution_count": null,
   "id": "ddcab03c",
   "metadata": {},
   "outputs": [],
   "source": [
    "data_cluster"
   ]
  }
 ],
 "metadata": {
  "kernelspec": {
   "display_name": "Python 3 (ipykernel)",
   "language": "python",
   "name": "python3"
  },
  "language_info": {
   "codemirror_mode": {
    "name": "ipython",
    "version": 3
   },
   "file_extension": ".py",
   "mimetype": "text/x-python",
   "name": "python",
   "nbconvert_exporter": "python",
   "pygments_lexer": "ipython3",
   "version": "3.8.13"
  }
 },
 "nbformat": 4,
 "nbformat_minor": 5
}
