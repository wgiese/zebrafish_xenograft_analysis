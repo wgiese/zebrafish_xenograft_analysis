{
 "cells": [
  {
   "cell_type": "code",
   "execution_count": null,
   "metadata": {},
   "outputs": [],
   "source": [
    "import sys, os\n",
    "import numpy as np\n",
    "import pandas as pd\n",
    "from matplotlib import pyplot as plt\n",
    "import seaborn as sns"
   ]
  },
  {
   "cell_type": "code",
   "execution_count": null,
   "metadata": {},
   "outputs": [],
   "source": [
    "sys.path.append(\"../python-scripts/\")\n",
    "import functions_common"
   ]
  },
  {
   "cell_type": "code",
   "execution_count": null,
   "metadata": {},
   "outputs": [],
   "source": [
    "parameters = functions_common.read_parameters(base_params = \"../python-scripts/base/parameters.yml\", \n",
    "                                              local_params = \"../python-scripts/local/parameters.yml\")\n",
    "parameters"
   ]
  },
  {
   "cell_type": "code",
   "execution_count": null,
   "metadata": {},
   "outputs": [],
   "source": [
    "key_file = functions_common.read_key_file(parameters)\n",
    "print(key_file.columns)\n",
    "key_file.head()"
   ]
  },
  {
   "cell_type": "code",
   "execution_count": null,
   "metadata": {},
   "outputs": [],
   "source": [
    "sns.set_style(\"white\")\n",
    "sns.set(font_scale = 2)\n",
    "fig, ax = plt.subplots( figsize=(20,10))\n",
    "sns.countplot(x = \"cancer_cells\", hue= \"dpi\", data= key_file, ax=ax, palette=\"Set2\")\n",
    "ax.set_xlabel(\"cancer cells\")\n",
    "ax.set_ylabel(\"#samples\")\n",
    "plt.xticks(rotation=45)\n",
    "plt.savefig(\"data_abundance.png\")\n",
    "plt.savefig(\"data_abundance.pdf\")"
   ]
  },
  {
   "cell_type": "code",
   "execution_count": null,
   "metadata": {},
   "outputs": [],
   "source": [
    "start_time_points = parameters[\"start_time\"]\n",
    "end_time_points = parameters[\"end_time\"]\n",
    "print(start_time_points)\n",
    "\n",
    "start_1dpi = start_time_points['1dpi']\n",
    "\n",
    "start_5dpi = start_time_points['5dpi']\n",
    "\n",
    "\n",
    "for index, row in key_file.iterrows():\n",
    "    dpi = \"%sdpi\" % row['dpi']\n",
    "    #print(dpi)\n",
    "    key_file.at[index, 't_start_min'] = row['t_start']*row['dt_min'] + start_time_points[dpi]\n",
    "    key_file.at[index, 't_end_min'] = row['t_end']*row['dt_min'] + start_time_points[dpi]\n",
    "    key_file.at[index, 't_start_h'] = key_file.at[index, 't_start_min']/60.0\n",
    "    key_file.at[index, 't_end_h'] = key_file.at[index, 't_end_min']/60.0"
   ]
  },
  {
   "cell_type": "code",
   "execution_count": null,
   "metadata": {},
   "outputs": [],
   "source": [
    "key_file_1dpi = key_file[key_file['dpi']==1]\n",
    "end_1dpi = key_file_1dpi['t_end_min'].max()\n",
    "print(end_1dpi)\n",
    "\n",
    "key_file_5dpi = key_file[key_file['dpi']==5]\n",
    "end_5dpi = key_file_5dpi['t_end_min'].max()\n",
    "print(end_5dpi)"
   ]
  },
  {
   "cell_type": "code",
   "execution_count": null,
   "metadata": {},
   "outputs": [],
   "source": [
    "key_file[['t_start','t_start_min','t_end','t_end_min']]"
   ]
  },
  {
   "cell_type": "code",
   "execution_count": null,
   "metadata": {},
   "outputs": [],
   "source": [
    "obs_time_points = np.arange(start_1dpi,end_5dpi,60)\n",
    "print(obs_time_points)\n",
    "\n",
    "count_df = pd.DataFrame()\n",
    "count_df = pd.DataFrame()\n",
    "index = 0\n",
    "\n",
    "for time in obs_time_points:\n",
    "    \n",
    "    dpi = 1\n",
    "    if time >= start_5dpi:\n",
    "        dpi = 5\n",
    "    \n",
    "    sub_df = key_file[key_file['t_end_min'] > time]\n",
    "    sub_df = sub_df[sub_df['dpi'] == dpi]\n",
    "       \n",
    "    if len(sub_df.index) > 0:\n",
    "    \n",
    "        for cancer_cells in sub_df['cancer_cells'].unique():\n",
    "            n = len(sub_df[sub_df[\"cancer_cells\"] == cancer_cells][\"short_name\"].unique())\n",
    "            \n",
    "            #sub_df.groupby(['cancer_cells'])['short_name'].count()\n",
    "            \n",
    "            count_df.at[index, 'time_in_min'] = time\n",
    "            count_df.at[index, 'time_in_h'] = time/60.0\n",
    "            count_df.at[index, 'cancer_cells'] = cancer_cells\n",
    "            count_df.at[index, 'sample_nr'] = n\n",
    "            count_df.at[index, 'dpi'] = dpi\n",
    "            \n",
    "            index += 1\n",
    "        #for entry in temp:\n",
    "        #    print(entry)\n",
    "        #count_df.at[index, 'time_in_min'] = time\n",
    "        #count_df.at[index, 'time_in_h'] = time/60.0\n",
    "    \n",
    "        #count_df.at[index, '#samples'] = sub_df.groupby(['cancer_cells'])['short_name'].count()\n",
    "        #print(sub_df.groupby(['cancer_cells'])['short_name'].count())\n",
    "    \n",
    "        \n",
    "    \n",
    "    "
   ]
  },
  {
   "cell_type": "code",
   "execution_count": null,
   "metadata": {},
   "outputs": [],
   "source": [
    "count_df"
   ]
  },
  {
   "cell_type": "code",
   "execution_count": null,
   "metadata": {},
   "outputs": [],
   "source": [
    "sns.set_style(\"whitegrid\")\n",
    "fig, ax = plt.subplots(figsize=(10,10))\n",
    "count_1dpi_df = count_df[count_df['dpi']==1]\n",
    "count_1dpi_df = count_1dpi_df[count_1dpi_df['time_in_min'] <= end_1dpi]\n",
    "ax.set_xlim(start_1dpi/60.0, end_1dpi/60.0 + 1.0)\n",
    "ax.set_ylim(0.0, count_df['sample_nr'].max() + 3)\n",
    "ax.set_ylabel(\"#samples\")\n",
    "ax.set_xlabel(\"time in h\")\n",
    "sns.lineplot(x = \"time_in_h\",  y= \"sample_nr\", hue= \"cancer_cells\", data= count_1dpi_df, ax=ax, linewidth = 5.0)\n",
    "plt.legend(bbox_to_anchor=(1.05, 1), loc=2, borderaxespad=0.)\n",
    "plt.savefig(\"data_abundance_1dpi_over_time.pdf\")\n",
    "#sns.countplot(x = \"dpf\", hue= \"cancer_cells\", data= key_file, ax=ax[1])"
   ]
  },
  {
   "cell_type": "code",
   "execution_count": null,
   "metadata": {},
   "outputs": [],
   "source": [
    "fig, ax = plt.subplots(figsize=(20,20))\n",
    "count_5dpi_df = count_df[count_df['dpi']==5]\n",
    "count_5dpi_df = count_5dpi_df[count_5dpi_df['time_in_min'] >= start_5dpi]\n",
    "ax.set_ylim(0.0, count_df['sample_nr'].max() + 5)\n",
    "sns.lineplot(x = \"time_in_h\",  y= \"sample_nr\", hue= \"cancer_cells\", data= count_5dpi_df, ax=ax, linewidth = 5.0)\n",
    "ax.set_ylabel(\"#samples\")\n",
    "ax.set_xlabel(\"time in h\")\n",
    "plt.legend(bbox_to_anchor=(1.05, 1), loc=2, borderaxespad=0.)\n",
    "plt.savefig(\"data_abundance_5dpi_over_time.pdf\")"
   ]
  },
  {
   "cell_type": "code",
   "execution_count": null,
   "metadata": {},
   "outputs": [],
   "source": [
    "fig, ax = plt.subplots(2,1, figsize=(20,10))\n",
    "sns.countplot(x = \"cancer_cells\", hue= \"dpf\", data= key_file, ax=ax[0])\n",
    "sns.countplot(x = \"dpf\", hue= \"cancer_cells\", data= key_file, ax=ax[1])"
   ]
  }
 ],
 "metadata": {
  "kernelspec": {
   "display_name": "Python 3",
   "language": "python",
   "name": "python3"
  },
  "language_info": {
   "codemirror_mode": {
    "name": "ipython",
    "version": 3
   },
   "file_extension": ".py",
   "mimetype": "text/x-python",
   "name": "python",
   "nbconvert_exporter": "python",
   "pygments_lexer": "ipython3",
   "version": "3.8.8"
  }
 },
 "nbformat": 4,
 "nbformat_minor": 4
}
