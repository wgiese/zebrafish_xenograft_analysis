{
 "cells": [
  {
   "cell_type": "code",
   "execution_count": null,
   "id": "f77f034d",
   "metadata": {},
   "outputs": [],
   "source": [
    "import pandas as pd"
   ]
  },
  {
   "cell_type": "code",
   "execution_count": null,
   "id": "737cb39e",
   "metadata": {},
   "outputs": [],
   "source": [
    "data = pd.read_csv(\"../../app/macrophage_props_1dpi_and_5dpi.csv\")"
   ]
  },
  {
   "cell_type": "code",
   "execution_count": null,
   "id": "legal-volleyball",
   "metadata": {},
   "outputs": [],
   "source": [
    "t_1dpi_start = 26, 27"
   ]
  },
  {
   "cell_type": "code",
   "execution_count": null,
   "id": "53675c9f",
   "metadata": {},
   "outputs": [],
   "source": [
    "circularity_thresh = 0.75\n",
    "\n",
    "time_intervals = {  \"t_1dpi_start\": [24,26],\n",
    "                    \"t_1dpi_mid\": [30,32],\n",
    "                    \"t_1dpi_end\": [37,39],\n",
    "                    \"t_5dpi_start\": [114,116],\n",
    "                    \"t_5dpi_end\":  [117,119]}\n",
    "\n",
    "t_1dpi_start = 24,26\n",
    "t_1dpi_mid = 30,32\n",
    "t_1dpi_end = 37,39\n",
    "\n",
    "t_5dpi_start = 115\n",
    "t_5dpi_end = 118"
   ]
  },
  {
   "cell_type": "code",
   "execution_count": null,
   "id": "3995ba4f",
   "metadata": {},
   "outputs": [],
   "source": [
    "data.columns"
   ]
  },
  {
   "cell_type": "code",
   "execution_count": null,
   "id": "3f4c9a94",
   "metadata": {},
   "outputs": [],
   "source": [
    "data.groupby([\"fish_id\",\"time_point\"]).count().std()[0]"
   ]
  },
  {
   "cell_type": "code",
   "execution_count": null,
   "id": "e695c664",
   "metadata": {},
   "outputs": [],
   "source": [
    "data_round = data[data[\"circularity\"] >= circularity_thresh]\n",
    "data_remified = data[data[\"circularity\"] < circularity_thresh]"
   ]
  },
  {
   "cell_type": "code",
   "execution_count": null,
   "id": "6c4d904f",
   "metadata": {},
   "outputs": [],
   "source": [
    "matrix_cols = ['feature'] + list(data['cancer_cells'].unique())\n",
    "#matrix_cols = matrix_cols.append(data.columns)\n",
    "print(matrix_cols)\n",
    "data_matrix =  pd.DataFrame(columns = matrix_cols)\n",
    "data_matrix"
   ]
  },
  {
   "cell_type": "code",
   "execution_count": null,
   "id": "2b476295",
   "metadata": {},
   "outputs": [],
   "source": [
    "len(data_matrix .index)"
   ]
  },
  {
   "cell_type": "code",
   "execution_count": null,
   "id": "4cdfb71b",
   "metadata": {},
   "outputs": [],
   "source": [
    "def add_feature(data, data_matrix, index, feature, macrophage_type, time_interval):\n",
    "    #index = len(data_cluster.index)\n",
    "    \n",
    "    t_start = time_intervals[time_interval][0]\n",
    "    t_end = time_intervals[time_interval][1]\n",
    "    \n",
    "    for cancer_cell in data['cancer_cells'].unique():\n",
    "        data_cancer_cell = data[data['cancer_cells']==cancer_cell]\n",
    "        data_matrix.at[index ,\"feature\"] = \"mean_%s_%s_%s\" % (feature, macrophage_type,time_interval)\n",
    "        data_cancer_cell_1dpi_start = data_cancer_cell[data_cancer_cell['time_in_h'] >= t_start]\n",
    "        data_cancer_cell_1dpi_start =  data_cancer_cell_1dpi_start[ data_cancer_cell_1dpi_start['time_in_h'] <= t_end]\n",
    "        if feature == \"count\":\n",
    "            data_matrix.at[index,cancer_cell] = data_cancer_cell_1dpi_start.groupby([\"fish_id\",\"time_point\"]).count().mean()[0]\n",
    "        else:\n",
    "            data_matrix.at[index,cancer_cell] = data_cancer_cell_1dpi_start[feature].mean()\n",
    "        \n",
    "    \n",
    "    index += 1\n",
    "    \n",
    "    for cancer_cell in data['cancer_cells'].unique():\n",
    "        data_cancer_cell = data_round[data_round['cancer_cells']==cancer_cell]\n",
    "        data_matrix.at[index ,\"feature\"] = \"std_%s_%s_%s\" % (feature,macrophage_type,time_interval)\n",
    "        data_cancer_cell_1dpi_start = data_cancer_cell[data_cancer_cell['time_in_h'] >= t_start]\n",
    "        data_cancer_cell_1dpi_start =  data_cancer_cell_1dpi_start[ data_cancer_cell_1dpi_start['time_in_h'] <= t_end]\n",
    "        if feature == \"count\":\n",
    "            data_matrix.at[index,cancer_cell] = data_cancer_cell_1dpi_start.groupby([\"fish_id\",\"time_point\"]).count().std()[0]\n",
    "        else:\n",
    "            data_matrix.at[index,cancer_cell] = data_cancer_cell_1dpi_start[feature].std()\n",
    "    \n",
    "    index += 1\n",
    "      \n",
    "    return data_matrix, index\n",
    "    #index += 1\n",
    "    "
   ]
  },
  {
   "cell_type": "code",
   "execution_count": null,
   "id": "af4c35f0",
   "metadata": {},
   "outputs": [],
   "source": [
    "index = 0\n",
    "data_matrix, index = add_feature(data_round, data_matrix, index, \"count\", \"round\", \"t_1dpi_start\")\n",
    "data_matrix, index = add_feature(data_round, data_matrix, index, \"count\", \"round\", \"t_1dpi_mid\")\n",
    "data_matrix, index = add_feature(data_round, data_matrix, index, \"count\", \"round\", \"t_1dpi_end\")\n",
    "data_matrix, index = add_feature(data_round, data_matrix, index, \"count\", \"round\", \"t_5dpi_start\")\n",
    "data_matrix, index = add_feature(data_round, data_matrix, index, \"count\", \"round\", \"t_5dpi_end\")\n",
    "\n",
    "data_matrix, index = add_feature(data_remified, data_matrix, index, \"count\", \"remified\", \"t_1dpi_start\")\n",
    "data_matrix, index = add_feature(data_remified, data_matrix, index, \"count\", \"remified\", \"t_1dpi_mid\")\n",
    "data_matrix, index = add_feature(data_remified, data_matrix, index, \"count\", \"remified\", \"t_1dpi_end\")\n",
    "data_matrix, index = add_feature(data_remified, data_matrix, index, \"count\", \"remified\", \"t_5dpi_start\")\n",
    "data_matrix, index = add_feature(data_remified, data_matrix, index, \"count\", \"remified\", \"t_5dpi_end\")\n",
    "\n",
    "data_matrix, index = add_feature(data_round, data_matrix, index, \"area_mum2\", \"round\", \"t_1dpi_start\")\n",
    "data_matrix, index = add_feature(data_round, data_matrix, index, \"area_mum2\", \"round\", \"t_1dpi_mid\")\n",
    "data_matrix, index = add_feature(data_round, data_matrix, index, \"area_mum2\", \"round\", \"t_1dpi_end\")\n",
    "data_matrix, index = add_feature(data_round, data_matrix, index, \"area_mum2\", \"round\", \"t_5dpi_start\")\n",
    "data_matrix, index = add_feature(data_round, data_matrix, index, \"area_mum2\", \"round\", \"t_5dpi_end\")\n",
    "\n",
    "data_matrix, index = add_feature(data_remified, data_matrix, index, \"area_mum2\", \"remified\", \"t_1dpi_start\")\n",
    "data_matrix, index = add_feature(data_remified, data_matrix, index, \"area_mum2\", \"remified\", \"t_1dpi_mid\")\n",
    "data_matrix, index = add_feature(data_remified, data_matrix, index, \"area_mum2\", \"remified\", \"t_1dpi_end\")\n",
    "data_matrix, index = add_feature(data_remified, data_matrix, index, \"area_mum2\", \"remified\", \"t_5dpi_start\")\n",
    "data_matrix, index = add_feature(data_remified, data_matrix, index, \"area_mum2\", \"remified\", \"t_5dpi_end\")\n",
    "\n",
    "data_matrix, index = add_feature(data_round, data_matrix, index, \"perimeter_mum\", \"round\", \"t_1dpi_start\")\n",
    "data_matrix, index = add_feature(data_round, data_matrix, index, \"perimeter_mum\", \"round\", \"t_1dpi_mid\")\n",
    "data_matrix, index = add_feature(data_round, data_matrix, index, \"perimeter_mum\", \"round\", \"t_1dpi_end\")\n",
    "data_matrix, index = add_feature(data_round, data_matrix, index, \"perimeter_mum\", \"round\", \"t_5dpi_start\")\n",
    "data_matrix, index = add_feature(data_round, data_matrix, index, \"perimeter_mum\", \"round\", \"t_5dpi_end\")\n",
    "\n",
    "data_matrix, index = add_feature(data_remified, data_matrix, index, \"perimeter_mum\", \"remified\", \"t_1dpi_start\")\n",
    "data_matrix, index = add_feature(data_remified, data_matrix, index, \"perimeter_mum\", \"remified\", \"t_1dpi_mid\")\n",
    "data_matrix, index = add_feature(data_remified, data_matrix, index, \"perimeter_mum\", \"remified\", \"t_1dpi_end\")\n",
    "data_matrix, index = add_feature(data_remified, data_matrix, index, \"perimeter_mum\", \"remified\", \"t_5dpi_start\")\n",
    "data_matrix, index = add_feature(data_remified, data_matrix, index, \"perimeter_mum\", \"remified\", \"t_5dpi_end\")\n",
    "\n",
    "data_matrix, index = add_feature(data_round, data_matrix, index, \"eccentricity\", \"round\", \"t_1dpi_start\")\n",
    "data_matrix, index = add_feature(data_round, data_matrix, index, \"eccentricity\", \"round\", \"t_1dpi_mid\")\n",
    "data_matrix, index = add_feature(data_round, data_matrix, index, \"eccentricity\", \"round\", \"t_1dpi_end\")\n",
    "data_matrix, index = add_feature(data_round, data_matrix, index, \"eccentricity\", \"round\", \"t_5dpi_start\")\n",
    "data_matrix, index = add_feature(data_round, data_matrix, index, \"eccentricity\", \"round\", \"t_5dpi_end\")\n",
    "\n",
    "data_matrix, index = add_feature(data_remified, data_matrix, index, \"eccentricity\", \"remified\", \"t_1dpi_start\")\n",
    "data_matrix, index = add_feature(data_remified, data_matrix, index, \"eccentricity\", \"remified\", \"t_1dpi_mid\")\n",
    "data_matrix, index = add_feature(data_remified, data_matrix, index, \"eccentricity\", \"remified\", \"t_1dpi_end\")\n",
    "data_matrix, index = add_feature(data_remified, data_matrix, index, \"eccentricity\", \"remified\", \"t_5dpi_start\")\n",
    "data_matrix, index = add_feature(data_remified, data_matrix, index, \"eccentricity\", \"remified\", \"t_5dpi_end\")\n",
    "\n",
    "data_matrix, index = add_feature(data_round, data_matrix, index, \"circularity\", \"round\", \"t_1dpi_start\")\n",
    "data_matrix, index = add_feature(data_round, data_matrix, index, \"circularity\", \"round\", \"t_1dpi_mid\")\n",
    "data_matrix, index = add_feature(data_round, data_matrix, index, \"circularity\", \"round\", \"t_1dpi_end\")\n",
    "data_matrix, index = add_feature(data_round, data_matrix, index, \"circularity\", \"round\", \"t_5dpi_start\")\n",
    "data_matrix, index = add_feature(data_round, data_matrix, index, \"circularity\", \"round\", \"t_5dpi_end\")\n",
    "\n",
    "data_matrix, index = add_feature(data_remified, data_matrix, index, \"circularity\", \"remified\", \"t_1dpi_start\")\n",
    "data_matrix, index = add_feature(data_remified, data_matrix, index, \"circularity\", \"remified\", \"t_1dpi_mid\")\n",
    "data_matrix, index = add_feature(data_remified, data_matrix, index, \"circularity\", \"remified\", \"t_1dpi_end\")\n",
    "data_matrix, index = add_feature(data_remified, data_matrix, index, \"circularity\", \"remified\", \"t_5dpi_start\")\n",
    "data_matrix, index = add_feature(data_remified, data_matrix, index, \"circularity\", \"remified\", \"t_5dpi_end\")\n",
    "data_matrix"
   ]
  },
  {
   "cell_type": "code",
   "execution_count": null,
   "id": "36bd11da",
   "metadata": {},
   "outputs": [],
   "source": [
    "data_matrix.to_csv(\"macrophage_data_matrix_for_scRNA_seq.csv\", index=False)"
   ]
  }
 ],
 "metadata": {
  "kernelspec": {
   "display_name": "Python 3 (ipykernel)",
   "language": "python",
   "name": "python3"
  },
  "language_info": {
   "codemirror_mode": {
    "name": "ipython",
    "version": 3
   },
   "file_extension": ".py",
   "mimetype": "text/x-python",
   "name": "python",
   "nbconvert_exporter": "python",
   "pygments_lexer": "ipython3",
   "version": "3.8.13"
  }
 },
 "nbformat": 4,
 "nbformat_minor": 5
}
