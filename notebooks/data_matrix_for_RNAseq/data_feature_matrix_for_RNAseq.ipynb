{
 "cells": [
  {
   "cell_type": "code",
   "execution_count": null,
   "id": "f77f034d",
   "metadata": {},
   "outputs": [],
   "source": [
    "import pandas as pd"
   ]
  },
  {
   "cell_type": "code",
   "execution_count": null,
   "id": "737cb39e",
   "metadata": {},
   "outputs": [],
   "source": [
    "data = pd.read_csv(\"../../app/macrophage_props_1dpi_and_5dpi.csv\")"
   ]
  },
  {
   "cell_type": "code",
   "execution_count": null,
   "id": "legal-volleyball",
   "metadata": {},
   "outputs": [],
   "source": [
    "t_1dpi_start = 26, 27"
   ]
  },
  {
   "cell_type": "code",
   "execution_count": null,
   "id": "53675c9f",
   "metadata": {},
   "outputs": [],
   "source": [
    "circularity_thresh = 0.75\n",
    "\n",
    "t_1dpi_start = 26\n",
    "t_1dpi_mid = 32\n",
    "t_1dpi_end = 37\n",
    "\n",
    "t_5dpi_start = 115\n",
    "t_5dpi_end = 118"
   ]
  },
  {
   "cell_type": "code",
   "execution_count": null,
   "id": "3995ba4f",
   "metadata": {},
   "outputs": [],
   "source": [
    "data.columns"
   ]
  },
  {
   "cell_type": "code",
   "execution_count": null,
   "id": "e695c664",
   "metadata": {},
   "outputs": [],
   "source": [
    "data_round = data[data[\"circularity\"] >= circularity_thresh]\n",
    "data_remified = data[data[\"circularity\"] < circularity_thresh]"
   ]
  },
  {
   "cell_type": "code",
   "execution_count": null,
   "id": "6c4d904f",
   "metadata": {},
   "outputs": [],
   "source": [
    "matrix_cols = ['feature'] + list(data['cancer_cells'].unique())\n",
    "#matrix_cols = matrix_cols.append(data.columns)\n",
    "print(matrix_cols)\n",
    "data_matrix =  pd.DataFrame(columns = matrix_cols)\n",
    "data_matrix"
   ]
  },
  {
   "cell_type": "code",
   "execution_count": null,
   "id": "2b476295",
   "metadata": {},
   "outputs": [],
   "source": [
    "len(data_matrix .index)"
   ]
  },
  {
   "cell_type": "code",
   "execution_count": null,
   "id": "4cdfb71b",
   "metadata": {},
   "outputs": [],
   "source": [
    "def add_feature(data, data_matrix, index, feature, macrophage_type):\n",
    "    #index = len(data_cluster.index)\n",
    "    \n",
    "    \n",
    "    for cancer_cell in data['cancer_cells'].unique():\n",
    "        data_cancer_cell = data[data['cancer_cells']==cancer_cell]\n",
    "        data_matrix.at[index ,\"feature\"] = \"mean_%s_%s_1dpi_start\" % (feature, macrophage_type)\n",
    "        data_cancer_cell_1dpi_start = data_cancer_cell[data_cancer_cell['time_in_h'] <= t_1dpi_start]\n",
    "        data_matrix.at[index,cancer_cell] = data_cancer_cell_1dpi_start[feature].mean()\n",
    "    \n",
    "    index += 1\n",
    "    \n",
    "    for cancer_cell in data['cancer_cells'].unique():\n",
    "        data_cancer_cell = data_round[data_round['cancer_cells']==cancer_cell]\n",
    "        data_matrix.at[index ,\"feature\"] = \"std_%s_%s_1dpi_start\" % (feature,macrophage_type)\n",
    "        data_cancer_cell_1dpi_start = data_cancer_cell[data_cancer_cell['time_in_h'] <= t_1dpi_start]\n",
    "        data_matrix.at[index,cancer_cell] = data_cancer_cell_1dpi_start[feature].std()\n",
    "    \n",
    "    index += 1\n",
    "    \n",
    "    for cancer_cell in data['cancer_cells'].unique():\n",
    "        data_cancer_cell = data_round[data_round['cancer_cells']==cancer_cell]\n",
    "        data_matrix.at[index ,\"feature\"] = \"mean_%s_%s_1dpi_mid\" % (feature,macrophage_type)\n",
    "        data_cancer_cell_1dpi_mid = data_cancer_cell[data_cancer_cell['time_in_h'] <= t_1dpi_mid +1]\n",
    "        data_cancer_cell_1dpi_mid = data_cancer_cell_1dpi_mid[data_cancer_cell_1dpi_mid ['time_in_h'] >= t_1dpi_mid -1]\n",
    "        data_matrix.at[index,cancer_cell] = data_cancer_cell_1dpi_mid[feature].mean()\n",
    "        \n",
    "    index += 1\n",
    "    \n",
    "    for cancer_cell in data['cancer_cells'].unique():\n",
    "        data_cancer_cell = data_round[data_round['cancer_cells']==cancer_cell]\n",
    "        data_matrix.at[index ,\"feature\"] = \"std_%s_%s_1dpi_mid\" % (feature,macrophage_type)\n",
    "        data_cancer_cell_1dpi_mid = data_cancer_cell[data_cancer_cell['time_in_h'] <= t_1dpi_mid +1]\n",
    "        data_cancer_cell_1dpi_mid = data_cancer_cell_1dpi_mid[data_cancer_cell_1dpi_mid ['time_in_h'] >= t_1dpi_mid -1]\n",
    "        data_matrix.at[index,cancer_cell] = data_cancer_cell_1dpi_mid[feature].std()\n",
    "        \n",
    "    index += 1\n",
    "    \n",
    "    for cancer_cell in data['cancer_cells'].unique():\n",
    "        data_cancer_cell = data_round[data_round['cancer_cells']==cancer_cell]\n",
    "        data_matrix.at[index ,\"feature\"] = \"mean_%s_%s_1dpi_end\" % (feature,macrophage_type)\n",
    "        data_cancer_cell_1dpi_end = data_cancer_cell[data_cancer_cell['time_in_h'] < 40]\n",
    "        data_cancer_cell_1dpi_end = data_cancer_cell_1dpi_end[data_cancer_cell_1dpi_end['time_in_h'] >= t_1dpi_end]\n",
    "        data_matrix.at[index,cancer_cell] = data_cancer_cell_1dpi_end[feature].mean()\n",
    "        \n",
    "    index += 1\n",
    "    \n",
    "    for cancer_cell in data['cancer_cells'].unique():\n",
    "        data_cancer_cell = data_round[data_round['cancer_cells']==cancer_cell]\n",
    "        data_matrix.at[index ,\"feature\"] = \"std_%s_%s_1dpi_end\" % (feature,macrophage_type)\n",
    "        data_cancer_cell_1dpi_end = data_cancer_cell[data_cancer_cell['time_in_h'] < 40]\n",
    "        data_cancer_cell_1dpi_end = data_cancer_cell_1dpi_end[data_cancer_cell_1dpi_end['time_in_h'] >= t_1dpi_end]\n",
    "        data_matrix.at[index,cancer_cell] = data_cancer_cell_1dpi_end[feature].std()\n",
    "        \n",
    "    index += 1\n",
    "    \n",
    "    for cancer_cell in data['cancer_cells'].unique():\n",
    "        data_cancer_cell = data[data['cancer_cells']==cancer_cell]\n",
    "        data_matrix.at[index ,\"feature\"] = \"mean_%s_%s_1dpi_start\" % (feature, macrophage_type)\n",
    "        data_cancer_cell_5dpi_start = data_cancer_cell[data_cancer_cell['time_in_h'] <= t_5dpi_end]\n",
    "        data_matrix.at[index,cancer_cell] = data_cancer_cell_1dpi_start[feature].mean()\n",
    "    \n",
    "    index += 1\n",
    "    \n",
    "    for cancer_cell in data['cancer_cells'].unique():\n",
    "        data_cancer_cell = data_round[data_round['cancer_cells']==cancer_cell]\n",
    "        data_matrix.at[index ,\"feature\"] = \"std_%s_%s_1dpi_start\" % (feature,macrophage_type)\n",
    "        data_cancer_cell_5dpi_start = data_cancer_cell[data_cancer_cell['time_in_h'] <= t_5dpi_end]\n",
    "        data_matrix.at[index,cancer_cell] = data_cancer_cell_1dpi_start[feature].std()\n",
    "    \n",
    "    index += 1\n",
    "    \n",
    "    return data_matrix, index\n",
    "    #index += 1\n",
    "    "
   ]
  },
  {
   "cell_type": "code",
   "execution_count": null,
   "id": "cb53a9d8",
   "metadata": {},
   "outputs": [],
   "source": [
    "data_matrix, index = add_feature(data_round, data_matrix, 0, \"area_mum2\", \"round\")\n",
    "data_matrix, index = add_feature(data_remified, data_matrix, index, \"area_mum2\", \"remified\")\n",
    "data_matrix, index = add_feature(data_round, data_matrix, index, \"eccentricity\", \"round\")\n",
    "data_matrix, index = add_feature(data_remified, data_matrix, index, \"eccentricity\", \"remified\")\n",
    "data_matrix, index = add_feature(data_round, data_matrix, index, \"circularity\", \"round\")\n",
    "data_matrix, index = add_feature(data_remified, data_matrix, index, \"circularity\", \"remified\")\n",
    "data_matrix.to_csv(\"feature_cancer_cell_matrix.csv\")\n",
    "data_matrix"
   ]
  },
  {
   "cell_type": "code",
   "execution_count": null,
   "id": "d3bec94e",
   "metadata": {},
   "outputs": [],
   "source": [
    "#data_cluster.at[0,\"feature\"] = \"area_start\"\n",
    "\n",
    "\n",
    "\n",
    "for cancer_cell in data['cancer_cells'].unique():\n",
    "    data_cancer_cell = data[data['cancer_cells']==cancer_cell]\n",
    "    data_cluster.at[index ,\"feature\"] = \"area_1dpi_start\"\n",
    "    data_cancer_cell_1dp1_start = data_cancer_cell[data_cancer_cell['time_in_h'] <= t_1dpi_start]\n",
    "    data_cluster.at[index,cancer_cell] = data_cancer_cell_1dp1_start['area_mum2'].mean()\n",
    "index +=1\n",
    "\n",
    "for cancer_cell in data['cancer_cells'].unique():\n",
    "    data_cancer_cell = data[data['cancer_cells']==cancer_cell]\n",
    "    data_cluster.at[index,\"feature\"] = \"area_1dpi_mid\"\n",
    "    data_cancer_cell_1dp1_mid = data_cancer_cell[data_cancer_cell['time_in_h'] <= t_1dpi_mid +1]\n",
    "    data_cancer_cell_1dp1_mid = data_cancer_cell_1dp1_mid[data_cancer_cell_1dp1_mid ['time_in_h'] >= t_1dpi_mid -1]\n",
    "    data_cluster.at[index,cancer_cell] = data_cancer_cell_1dp1_mid['area_mum2'].mean()\n",
    "index +=1\n",
    "for cancer_cell in data['cancer_cells'].unique():\n",
    "    data_cancer_cell = data[data['cancer_cells']==cancer_cell]\n",
    "    data_cluster.at[index,\"feature\"] = \"area_1dpi_end\"\n",
    "    data_cancer_cell_1dp1_end = data_cancer_cell[data_cancer_cell['time_in_h'] <= t_1dpi_end]\n",
    "    data_cluster.at[index,cancer_cell] = data_cancer_cell_1dp1_end['area_mum2'].mean()\n",
    "index +=1\n",
    "\n",
    "\n",
    "for cancer_cell in data['cancer_cells'].unique():\n",
    "    data_cancer_cell = data[data['cancer_cells']==cancer_cell]\n",
    "    data_cluster.at[index,\"feature\"] = \"area_5dpi_start\"\n",
    "    data_cancer_cell_1dp1_end = data_cancer_cell[data_cancer_cell['time_in_h'] <= t_5dpi_start]\n",
    "    data_cluster.at[index,cancer_cell] = data_cancer_cell_1dp1_end['area_mum2'].mean()\n",
    "index +=1\n",
    "\n",
    "for cancer_cell in data['cancer_cells'].unique():\n",
    "    data_cancer_cell = data[data['cancer_cells']==cancer_cell]\n",
    "    data_cluster.at[index,\"feature\"] = \"area_5dpi_end\"\n",
    "    data_cancer_cell_1dp1_end = data_cancer_cell[data_cancer_cell['time_in_h'] >= t_5dpi_end]\n",
    "    data_cluster.at[index,cancer_cell] = data_cancer_cell_1dp1_end['area_mum2'].mean()\n",
    "index +=1"
   ]
  },
  {
   "cell_type": "code",
   "execution_count": null,
   "id": "dca3abde",
   "metadata": {},
   "outputs": [],
   "source": [
    "data_cluster"
   ]
  },
  {
   "cell_type": "code",
   "execution_count": null,
   "id": "298a8e30",
   "metadata": {},
   "outputs": [],
   "source": [
    "for cancer_cell in data['cancer_cells'].unique():\n",
    "    data_cancer_cell = data[data['cancer_cells']==cancer_cell]\n",
    "    data_cluster.at[index ,\"feature\"] = \"circularity_1dpi_start\"\n",
    "    data_cancer_cell_1dp1_start = data_cancer_cell[data_cancer_cell['time_in_h'] <= t_1dpi_start]\n",
    "    data_cluster.at[index,cancer_cell] = data_cancer_cell_1dp1_start['circularity'].mean()\n",
    "index +=1\n",
    "\n",
    "for cancer_cell in data['cancer_cells'].unique():\n",
    "    data_cancer_cell = data[data['cancer_cells']==cancer_cell]\n",
    "    data_cluster.at[index,\"feature\"] = \"circularity_1dpi_mid\"\n",
    "    data_cancer_cell_1dp1_mid = data_cancer_cell[data_cancer_cell['time_in_h'] <= t_1dpi_mid +1]\n",
    "    data_cancer_cell_1dp1_mid = data_cancer_cell_1dp1_mid[data_cancer_cell_1dp1_mid ['time_in_h'] >= t_1dpi_mid -1]\n",
    "    data_cluster.at[index,cancer_cell] = data_cancer_cell_1dp1_mid['circularity'].mean()\n",
    "index +=1\n",
    "for cancer_cell in data['cancer_cells'].unique():\n",
    "    data_cancer_cell = data[data['cancer_cells']==cancer_cell]\n",
    "    data_cluster.at[index,\"feature\"] = \"circularity_1dpi_end\"\n",
    "    data_cancer_cell_1dp1_end = data_cancer_cell[data_cancer_cell['time_in_h'] <= t_1dpi_end]\n",
    "    data_cluster.at[index,cancer_cell] = data_cancer_cell_1dp1_end['circularity'].mean()\n",
    "index +=1\n",
    "\n",
    "\n",
    "for cancer_cell in data['cancer_cells'].unique():\n",
    "    data_cancer_cell = data[data['cancer_cells']==cancer_cell]\n",
    "    data_cluster.at[index,\"feature\"] = \"circularity_5dpi_start\"\n",
    "    data_cancer_cell_1dp1_end = data_cancer_cell[data_cancer_cell['time_in_h'] <= t_5dpi_start]\n",
    "    data_cluster.at[index,cancer_cell] = data_cancer_cell_1dp1_end['circularity'].mean()\n",
    "index +=1\n",
    "\n",
    "for cancer_cell in data['cancer_cells'].unique():\n",
    "    data_cancer_cell = data[data['cancer_cells']==cancer_cell]\n",
    "    data_cluster.at[index,\"feature\"] = \"circularity_5dpi_end\"\n",
    "    data_cancer_cell_1dp1_end = data_cancer_cell[data_cancer_cell['time_in_h'] >= t_5dpi_end]\n",
    "    data_cluster.at[index,cancer_cell] = data_cancer_cell_1dp1_end['circularity'].mean()\n",
    "index +=1"
   ]
  },
  {
   "cell_type": "code",
   "execution_count": null,
   "id": "98e402b9",
   "metadata": {},
   "outputs": [],
   "source": [
    "data_cluster"
   ]
  },
  {
   "cell_type": "code",
   "execution_count": null,
   "id": "ccaa430f",
   "metadata": {},
   "outputs": [],
   "source": [
    "for cancer_cell in data['cancer_cells'].unique():\n",
    "    data_cancer_cell = data[data['cancer_cells']==cancer_cell]\n",
    "    data_cluster.at[index ,\"feature\"] = \"eccentricity_1dpi_start\"\n",
    "    data_cancer_cell_1dp1_start = data_cancer_cell[data_cancer_cell['time_in_h'] <= t_1dpi_start]\n",
    "    data_cluster.at[index,cancer_cell] = data_cancer_cell_1dp1_start['eccentricity'].mean()\n",
    "index +=1\n",
    "\n",
    "for cancer_cell in data['cancer_cells'].unique():\n",
    "    data_cancer_cell = data[data['cancer_cells']==cancer_cell]\n",
    "    data_cluster.at[index,\"feature\"] = \"eccentricity_1dpi_mid\"\n",
    "    data_cancer_cell_1dp1_mid = data_cancer_cell[data_cancer_cell['time_in_h'] <= t_1dpi_mid +1]\n",
    "    data_cancer_cell_1dp1_mid = data_cancer_cell_1dp1_mid[data_cancer_cell_1dp1_mid ['time_in_h'] >= t_1dpi_mid -1]\n",
    "    data_cluster.at[index,cancer_cell] = data_cancer_cell_1dp1_mid['eccentricity'].mean()\n",
    "index +=1\n",
    "for cancer_cell in data['cancer_cells'].unique():\n",
    "    data_cancer_cell = data[data['cancer_cells']==cancer_cell]\n",
    "    data_cluster.at[index,\"feature\"] = \"eccentricity_1dpi_end\"\n",
    "    data_cancer_cell_1dp1_end = data_cancer_cell[data_cancer_cell['time_in_h'] <= t_1dpi_end]\n",
    "    data_cluster.at[index,cancer_cell] = data_cancer_cell_1dp1_end['eccentricity'].mean()\n",
    "index +=1\n",
    "\n",
    "\n",
    "for cancer_cell in data['cancer_cells'].unique():\n",
    "    data_cancer_cell = data[data['cancer_cells']==cancer_cell]\n",
    "    data_cluster.at[index,\"feature\"] = \"eccentricity_5dpi_start\"\n",
    "    data_cancer_cell_1dp1_end = data_cancer_cell[data_cancer_cell['time_in_h'] <= t_5dpi_start]\n",
    "    data_cluster.at[index,cancer_cell] = data_cancer_cell_1dp1_end['eccentricity'].mean()\n",
    "index +=1\n",
    "\n",
    "for cancer_cell in data['cancer_cells'].unique():\n",
    "    data_cancer_cell = data[data['cancer_cells']==cancer_cell]\n",
    "    data_cluster.at[index,\"feature\"] = \"eccentricity_5dpi_end\"\n",
    "    data_cancer_cell_1dp1_end = data_cancer_cell[data_cancer_cell['time_in_h'] >= t_5dpi_end]\n",
    "    data_cluster.at[index,cancer_cell] = data_cancer_cell_1dp1_end['eccentricity'].mean()\n",
    "index +=1"
   ]
  },
  {
   "cell_type": "code",
   "execution_count": null,
   "id": "ddcab03c",
   "metadata": {},
   "outputs": [],
   "source": [
    "data_cluster"
   ]
  }
 ],
 "metadata": {
  "kernelspec": {
   "display_name": "Python 3",
   "language": "python",
   "name": "python3"
  },
  "language_info": {
   "codemirror_mode": {
    "name": "ipython",
    "version": 3
   },
   "file_extension": ".py",
   "mimetype": "text/x-python",
   "name": "python",
   "nbconvert_exporter": "python",
   "pygments_lexer": "ipython3",
   "version": "3.8.8"
  }
 },
 "nbformat": 4,
 "nbformat_minor": 5
}
