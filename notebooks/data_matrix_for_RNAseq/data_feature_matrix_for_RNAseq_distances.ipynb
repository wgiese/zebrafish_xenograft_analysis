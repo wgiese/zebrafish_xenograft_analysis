{
 "cells": [
  {
   "cell_type": "code",
   "execution_count": null,
   "id": "f77f034d",
   "metadata": {},
   "outputs": [],
   "source": [
    "import pandas as pd"
   ]
  },
  {
   "cell_type": "code",
   "execution_count": null,
   "id": "737cb39e",
   "metadata": {},
   "outputs": [],
   "source": [
    "data_tumor_1dpi = pd.read_csv(\"../../app/tumor_volumes_1dpi.csv\")\n",
    "data_tumor_5dpi = pd.read_csv(\"../../app/tumor_volumes_5dpi.csv\")\n",
    "data_tumor_5dpi.columns"
   ]
  },
  {
   "cell_type": "code",
   "execution_count": null,
   "id": "0071ded6",
   "metadata": {},
   "outputs": [],
   "source": [
    "data_macrophage = pd.read_csv(\"../../app/macrophage_props_1dpi_and_5dpi.csv\")\n",
    "data_macrophage.columns"
   ]
  },
  {
   "cell_type": "code",
   "execution_count": null,
   "id": "legal-volleyball",
   "metadata": {},
   "outputs": [],
   "source": [
    "t_1dpi_start = 26, 27"
   ]
  },
  {
   "cell_type": "code",
   "execution_count": null,
   "id": "53675c9f",
   "metadata": {},
   "outputs": [],
   "source": [
    "limits_round = [0.6, 1.0]\n",
    "limits_remified = [0.0, 0.35]\n",
    "\n",
    "time_intervals_macro = {  \"t_1dpi_start\": [24,26],\n",
    "                    \"t_1dpi_mid\": [30,32],\n",
    "                    \"t_1dpi_end\": [37,39],\n",
    "                    \"t_5dpi_start\": [114,115],\n",
    "                    \"t_5dpi_end\":  [117,118]} #\n",
    "\n",
    "time_intervals_tumor = { \"t_1dpi\": [24,39],\n",
    "                         \"t_5dpi\": [114,118]\n",
    "                       } #"
   ]
  },
  {
   "cell_type": "code",
   "execution_count": null,
   "id": "3995ba4f",
   "metadata": {},
   "outputs": [],
   "source": [
    "data_macrophage.columns"
   ]
  },
  {
   "cell_type": "code",
   "execution_count": null,
   "id": "3f4c9a94",
   "metadata": {},
   "outputs": [],
   "source": [
    "data_macrophage.groupby([\"fish_id\",\"time_point\"]).count().std()[0]"
   ]
  },
  {
   "cell_type": "code",
   "execution_count": null,
   "id": "e695c664",
   "metadata": {},
   "outputs": [],
   "source": [
    "data_round = data_macrophage[data_macrophage[\"circularity\"] >= limits_round[0]]\n",
    "data_remified = data_macrophage[data_macrophage[\"circularity\"] <=  limits_remified[1]]"
   ]
  },
  {
   "cell_type": "code",
   "execution_count": null,
   "id": "6c4d904f",
   "metadata": {},
   "outputs": [],
   "source": [
    "matrix_cols = ['feature'] + list(data_macrophage['cancer_cells'].unique())\n",
    "#matrix_cols = matrix_cols.append(data.columns)\n",
    "print(matrix_cols)\n",
    "data_matrix =  pd.DataFrame(columns = matrix_cols)\n",
    "data_matrix"
   ]
  },
  {
   "cell_type": "code",
   "execution_count": null,
   "id": "2b476295",
   "metadata": {},
   "outputs": [],
   "source": [
    "len(data_matrix.index)"
   ]
  },
  {
   "cell_type": "code",
   "execution_count": null,
   "id": "4cdfb71b",
   "metadata": {},
   "outputs": [],
   "source": [
    "def add_feature(data, data_matrix, index, feature, macrophage_type, time_interval):\n",
    "    #index = len(data_cluster.index)\n",
    "    \n",
    "    t_start = time_intervals_macro[time_interval][0]\n",
    "    t_end = time_intervals_macro[time_interval][1]\n",
    "    \n",
    "    for cancer_cell in data['cancer_cells'].unique():\n",
    "        data_cancer_cell = data[data['cancer_cells']==cancer_cell]\n",
    "        data_matrix.at[index ,\"feature\"] = \"mean_%s_%s_%s\" % (feature, macrophage_type,time_interval)\n",
    "        data_cancer_cell_start = data_cancer_cell[data_cancer_cell['time_in_h'] >= t_start]\n",
    "        data_cancer_cell_start =  data_cancer_cell_start[ data_cancer_cell_start['time_in_h'] <= t_end]\n",
    "        if feature == \"count\":\n",
    "            data_matrix.at[index,cancer_cell] = data_cancer_cell_start.groupby([\"fish_id\",\"time_point\"]).count().mean()[0]\n",
    "        else:\n",
    "            data_matrix.at[index,cancer_cell] = data_cancer_cell_start[feature].mean()\n",
    "        \n",
    "    \n",
    "    index += 1\n",
    "    \n",
    "    for cancer_cell in data['cancer_cells'].unique():\n",
    "        data_cancer_cell = data[data['cancer_cells']==cancer_cell]\n",
    "        data_matrix.at[index ,\"feature\"] = \"std_%s_%s_%s\" % (feature,macrophage_type,time_interval)\n",
    "        data_cancer_cell_start = data_cancer_cell[data_cancer_cell['time_in_h'] >= t_start]\n",
    "        data_cancer_cell_start =  data_cancer_cell_start[ data_cancer_cell_start['time_in_h'] <= t_end]\n",
    "        if feature == \"count\":\n",
    "            data_matrix.at[index,cancer_cell] = data_cancer_cell_start.groupby([\"fish_id\",\"time_point\"]).count().std()[0]\n",
    "        else:\n",
    "            data_matrix.at[index,cancer_cell] = data_cancer_cell_start[feature].std()\n",
    "    \n",
    "    index += 1\n",
    "      \n",
    "    return data_matrix, index\n",
    "    #index += 1\n",
    "    "
   ]
  },
  {
   "cell_type": "code",
   "execution_count": null,
   "id": "5a03b436",
   "metadata": {},
   "outputs": [],
   "source": [
    "def add_feature_tumor(data, data_matrix, index, feature, time_interval):\n",
    "    #index = len(data_cluster.index)\n",
    "    \n",
    "    t_start = time_intervals_tumor[time_interval][0]\n",
    "    t_end = time_intervals_tumor[time_interval][1]\n",
    "    \n",
    "    for cancer_cell in data['cancer_cells'].unique():\n",
    "        data_cancer_cell = data[data['cancer_cells']==cancer_cell]\n",
    "        data_matrix.at[index ,\"feature\"] = \"mean_%s_%s\" % (feature, time_interval)\n",
    "        data_cancer_cell_start = data_cancer_cell[data_cancer_cell['time_in_h'] >= t_start]\n",
    "        data_cancer_cell_start =  data_cancer_cell_start[ data_cancer_cell_start['time_in_h'] <= t_end]\n",
    "        data_matrix.at[index,cancer_cell] = data_cancer_cell_start[feature].mean()\n",
    "        \n",
    "    \n",
    "    index += 1\n",
    "    \n",
    "    for cancer_cell in data['cancer_cells'].unique():\n",
    "        data_cancer_cell = data[data['cancer_cells']==cancer_cell]\n",
    "        data_matrix.at[index ,\"feature\"] = \"std_%s_%s\" % (feature,time_interval)\n",
    "        data_cancer_cell_start = data_cancer_cell[data_cancer_cell['time_in_h'] >= t_start]\n",
    "        data_cancer_cell_start =  data_cancer_cell_start[ data_cancer_cell_start['time_in_h'] <= t_end]\n",
    "        data_matrix.at[index,cancer_cell] = data_cancer_cell_start[feature].std()\n",
    "    \n",
    "    index += 1\n",
    "      \n",
    "    return data_matrix, index\n",
    "    #index += 1"
   ]
  },
  {
   "cell_type": "code",
   "execution_count": null,
   "id": "af4c35f0",
   "metadata": {},
   "outputs": [],
   "source": [
    "index = 0\n",
    "data_matrix, index = add_feature(data_round, data_matrix, index, \"count\", \"round\", \"t_1dpi_start\")\n",
    "data_matrix, index = add_feature(data_round, data_matrix, index, \"count\", \"round\", \"t_1dpi_mid\")\n",
    "data_matrix, index = add_feature(data_round, data_matrix, index, \"count\", \"round\", \"t_1dpi_end\")\n",
    "data_matrix, index = add_feature(data_round, data_matrix, index, \"count\", \"round\", \"t_5dpi_start\")\n",
    "data_matrix, index = add_feature(data_round, data_matrix, index, \"count\", \"round\", \"t_5dpi_end\")\n",
    "\n",
    "data_matrix, index = add_feature(data_remified, data_matrix, index, \"count\", \"remified\", \"t_1dpi_start\")\n",
    "data_matrix, index = add_feature(data_remified, data_matrix, index, \"count\", \"remified\", \"t_1dpi_mid\")\n",
    "data_matrix, index = add_feature(data_remified, data_matrix, index, \"count\", \"remified\", \"t_1dpi_end\")\n",
    "data_matrix, index = add_feature(data_remified, data_matrix, index, \"count\", \"remified\", \"t_5dpi_start\")\n",
    "data_matrix, index = add_feature(data_remified, data_matrix, index, \"count\", \"remified\", \"t_5dpi_end\")\n",
    "\n",
    "data_matrix, index = add_feature(data_round, data_matrix, index, \"area_mum2\", \"round\", \"t_1dpi_start\")\n",
    "data_matrix, index = add_feature(data_round, data_matrix, index, \"area_mum2\", \"round\", \"t_1dpi_mid\")\n",
    "data_matrix, index = add_feature(data_round, data_matrix, index, \"area_mum2\", \"round\", \"t_1dpi_end\")\n",
    "data_matrix, index = add_feature(data_round, data_matrix, index, \"area_mum2\", \"round\", \"t_5dpi_start\")\n",
    "data_matrix, index = add_feature(data_round, data_matrix, index, \"area_mum2\", \"round\", \"t_5dpi_end\")\n",
    "\n",
    "data_matrix, index = add_feature(data_remified, data_matrix, index, \"area_mum2\", \"remified\", \"t_1dpi_start\")\n",
    "data_matrix, index = add_feature(data_remified, data_matrix, index, \"area_mum2\", \"remified\", \"t_1dpi_mid\")\n",
    "data_matrix, index = add_feature(data_remified, data_matrix, index, \"area_mum2\", \"remified\", \"t_1dpi_end\")\n",
    "data_matrix, index = add_feature(data_remified, data_matrix, index, \"area_mum2\", \"remified\", \"t_5dpi_start\")\n",
    "data_matrix, index = add_feature(data_remified, data_matrix, index, \"area_mum2\", \"remified\", \"t_5dpi_end\")\n",
    "\n",
    "data_matrix, index = add_feature(data_round, data_matrix, index, \"perimeter_mum\", \"round\", \"t_1dpi_start\")\n",
    "data_matrix, index = add_feature(data_round, data_matrix, index, \"perimeter_mum\", \"round\", \"t_1dpi_mid\")\n",
    "data_matrix, index = add_feature(data_round, data_matrix, index, \"perimeter_mum\", \"round\", \"t_1dpi_end\")\n",
    "data_matrix, index = add_feature(data_round, data_matrix, index, \"perimeter_mum\", \"round\", \"t_5dpi_start\")\n",
    "data_matrix, index = add_feature(data_round, data_matrix, index, \"perimeter_mum\", \"round\", \"t_5dpi_end\")\n",
    "\n",
    "data_matrix, index = add_feature(data_remified, data_matrix, index, \"perimeter_mum\", \"remified\", \"t_1dpi_start\")\n",
    "data_matrix, index = add_feature(data_remified, data_matrix, index, \"perimeter_mum\", \"remified\", \"t_1dpi_mid\")\n",
    "data_matrix, index = add_feature(data_remified, data_matrix, index, \"perimeter_mum\", \"remified\", \"t_1dpi_end\")\n",
    "data_matrix, index = add_feature(data_remified, data_matrix, index, \"perimeter_mum\", \"remified\", \"t_5dpi_start\")\n",
    "data_matrix, index = add_feature(data_remified, data_matrix, index, \"perimeter_mum\", \"remified\", \"t_5dpi_end\")\n",
    "\n",
    "data_matrix, index = add_feature(data_round, data_matrix, index, \"eccentricity\", \"round\", \"t_1dpi_start\")\n",
    "data_matrix, index = add_feature(data_round, data_matrix, index, \"eccentricity\", \"round\", \"t_1dpi_mid\")\n",
    "data_matrix, index = add_feature(data_round, data_matrix, index, \"eccentricity\", \"round\", \"t_1dpi_end\")\n",
    "data_matrix, index = add_feature(data_round, data_matrix, index, \"eccentricity\", \"round\", \"t_5dpi_start\")\n",
    "data_matrix, index = add_feature(data_round, data_matrix, index, \"eccentricity\", \"round\", \"t_5dpi_end\")\n",
    "\n",
    "data_matrix, index = add_feature(data_remified, data_matrix, index, \"eccentricity\", \"remified\", \"t_1dpi_start\")\n",
    "data_matrix, index = add_feature(data_remified, data_matrix, index, \"eccentricity\", \"remified\", \"t_1dpi_mid\")\n",
    "data_matrix, index = add_feature(data_remified, data_matrix, index, \"eccentricity\", \"remified\", \"t_1dpi_end\")\n",
    "data_matrix, index = add_feature(data_remified, data_matrix, index, \"eccentricity\", \"remified\", \"t_5dpi_start\")\n",
    "data_matrix, index = add_feature(data_remified, data_matrix, index, \"eccentricity\", \"remified\", \"t_5dpi_end\")\n",
    "\n",
    "data_matrix, index = add_feature(data_round, data_matrix, index, \"circularity\", \"round\", \"t_1dpi_start\")\n",
    "data_matrix, index = add_feature(data_round, data_matrix, index, \"circularity\", \"round\", \"t_1dpi_mid\")\n",
    "data_matrix, index = add_feature(data_round, data_matrix, index, \"circularity\", \"round\", \"t_1dpi_end\")\n",
    "data_matrix, index = add_feature(data_round, data_matrix, index, \"circularity\", \"round\", \"t_5dpi_start\")\n",
    "data_matrix, index = add_feature(data_round, data_matrix, index, \"circularity\", \"round\", \"t_5dpi_end\")\n",
    "\n",
    "data_matrix, index = add_feature(data_remified, data_matrix, index, \"circularity\", \"remified\", \"t_1dpi_start\")\n",
    "data_matrix, index = add_feature(data_remified, data_matrix, index, \"circularity\", \"remified\", \"t_1dpi_mid\")\n",
    "data_matrix, index = add_feature(data_remified, data_matrix, index, \"circularity\", \"remified\", \"t_1dpi_end\")\n",
    "data_matrix, index = add_feature(data_remified, data_matrix, index, \"circularity\", \"remified\", \"t_5dpi_start\")\n",
    "data_matrix, index = add_feature(data_remified, data_matrix, index, \"circularity\", \"remified\", \"t_5dpi_end\")\n",
    "\n",
    "data_matrix, index = add_feature(data_round, data_matrix, index, \"distance_to_tumor\", \"round\", \"t_1dpi_start\")\n",
    "data_matrix, index = add_feature(data_round, data_matrix, index, \"distance_to_tumor\", \"round\", \"t_1dpi_mid\")\n",
    "data_matrix, index = add_feature(data_round, data_matrix, index, \"distance_to_tumor\", \"round\", \"t_1dpi_end\")\n",
    "data_matrix, index = add_feature(data_round, data_matrix, index, \"distance_to_tumor\", \"round\", \"t_5dpi_start\")\n",
    "data_matrix, index = add_feature(data_round, data_matrix, index, \"distance_to_tumor\", \"round\", \"t_5dpi_end\")\n",
    "\n",
    "data_matrix, index = add_feature(data_remified, data_matrix, index, \"distance_to_tumor\", \"remified\", \"t_1dpi_start\")\n",
    "data_matrix, index = add_feature(data_remified, data_matrix, index, \"distance_to_tumor\", \"remified\", \"t_1dpi_mid\")\n",
    "data_matrix, index = add_feature(data_remified, data_matrix, index, \"distance_to_tumor\", \"remified\", \"t_1dpi_end\")\n",
    "data_matrix, index = add_feature(data_remified, data_matrix, index, \"distance_to_tumor\", \"remified\", \"t_5dpi_start\")\n",
    "data_matrix, index = add_feature(data_remified, data_matrix, index, \"distance_to_tumor\", \"remified\", \"t_5dpi_end\")\n",
    "\n",
    "data_matrix"
   ]
  },
  {
   "cell_type": "markdown",
   "id": "1159532f",
   "metadata": {},
   "source": [
    "# add tumor data"
   ]
  },
  {
   "cell_type": "code",
   "execution_count": null,
   "id": "f0189a11",
   "metadata": {},
   "outputs": [],
   "source": [
    "data_matrix, index = add_feature_tumor(data_tumor_1dpi, data_matrix, index, \"tumor_volume_um\", \"t_1dpi\")\n",
    "data_matrix, index = add_feature_tumor(data_tumor_5dpi, data_matrix, index, \"tumor_volume_um\", \"t_5dpi\")\n",
    "\n",
    "\n",
    "#data_matrix, index = add_feature_tumor(data_tumor_1dpi, data_matrix, index, \"macrophage_mean_distance\", \"t_1dpi_start\")\n",
    "#data_matrix, index = add_feature_tumor(data_tumor_1dpi, data_matrix, index, \"macrophage_mean_distance\", \"t_1dpi_mid\")\n",
    "#data_matrix, index = add_feature_tumor(data_tumor_1dpi, data_matrix, index, \"macrophage_mean_distance\", \"t_1dpi_end\")\n",
    "#data_matrix, index = add_feature_tumor(data_tumor_5dpi, data_matrix, index, \"macrophage_mean_distance\", \"t_5dpi_start\")\n",
    "#data_matrix, index = add_feature_tumor(data_tumor_5dpi, data_matrix, index, \"macrophage_mean_distance\", \"t_5dpi_end\")\n",
    "data_matrix"
   ]
  },
  {
   "cell_type": "code",
   "execution_count": null,
   "id": "36bd11da",
   "metadata": {},
   "outputs": [],
   "source": [
    "data_matrix.to_csv(\"tumor_macrophage_data_matrix_for_scRNA_seq_mean_std.csv\", index=False)"
   ]
  },
  {
   "cell_type": "code",
   "execution_count": null,
   "id": "64dfac0c",
   "metadata": {},
   "outputs": [],
   "source": [
    "select = [\"mean\" in row[\"feature\"] for index, row in data_matrix.iterrows()]"
   ]
  },
  {
   "cell_type": "code",
   "execution_count": null,
   "id": "db43864a",
   "metadata": {},
   "outputs": [],
   "source": [
    "select"
   ]
  },
  {
   "cell_type": "code",
   "execution_count": null,
   "id": "4d53c3e3",
   "metadata": {},
   "outputs": [],
   "source": [
    "data_matrix_mean = data_matrix[select]\n",
    "data_matrix_mean.to_csv(\"tumor_macrophage_data_matrix_for_scRNA_seq.csv\", index=False)"
   ]
  }
 ],
 "metadata": {
  "kernelspec": {
   "display_name": "Python 3 (ipykernel)",
   "language": "python",
   "name": "python3"
  },
  "language_info": {
   "codemirror_mode": {
    "name": "ipython",
    "version": 3
   },
   "file_extension": ".py",
   "mimetype": "text/x-python",
   "name": "python",
   "nbconvert_exporter": "python",
   "pygments_lexer": "ipython3",
   "version": "3.8.13"
  }
 },
 "nbformat": 4,
 "nbformat_minor": 5
}
