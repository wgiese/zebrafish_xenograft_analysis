{
 "cells": [
  {
   "cell_type": "code",
   "execution_count": null,
   "metadata": {},
   "outputs": [],
   "source": [
    "import h5py\n",
    "import numpy as np\n",
    "from matplotlib import pyplot as plt\n",
    "import scipy.ndimage\n",
    "import yaml\n",
    "from pyevtk.hl import imageToVTK "
   ]
  },
  {
   "cell_type": "markdown",
   "metadata": {},
   "source": [
    "# read parameters"
   ]
  },
  {
   "cell_type": "code",
   "execution_count": null,
   "metadata": {},
   "outputs": [],
   "source": [
    "with open(\"../base/parameters.yml\") as file:\n",
    "    parameters = yaml.load(file, Loader=yaml.FullLoader)\n",
    "with open(\"../local/parameters.yml\") as file:\n",
    "    parameters_local = yaml.load(file, Loader=yaml.FullLoader)\n",
    "\n",
    "# overwrite global parameters with local setting\n",
    "for key in parameters_local:\n",
    "    parameters[key] = parameters_local[key]\n",
    "    \n",
    "print(parameters)"
   ]
  },
  {
   "cell_type": "markdown",
   "metadata": {},
   "source": [
    "# read ilastik segmentation"
   ]
  },
  {
   "cell_type": "code",
   "execution_count": null,
   "metadata": {},
   "outputs": [],
   "source": [
    "data_folder = parameters[\"data_folder\"]\n",
    "filename = data_folder + \"vessel_segmentation.h5\"\n",
    "\n",
    "with h5py.File(filename, \"r\") as f:\n",
    "    # List all groups\n",
    "    print(\"Keys: %s\" % f.keys())\n",
    "    a_group_key = list(f.keys())[0]\n",
    "    \n",
    "    print(a_group_key)\n",
    "\n",
    "    # Get the data\n",
    "    #data = list(f[a_group_key])[1:10]\n",
    "    data = np.array(f[a_group_key])\n",
    "    print(data.shape)"
   ]
  },
  {
   "cell_type": "code",
   "execution_count": null,
   "metadata": {},
   "outputs": [],
   "source": [
    "fig, ax = plt.subplots(figsize=(15,15))\n",
    "ax.imshow(data[100,:,:,0])"
   ]
  },
  {
   "cell_type": "code",
   "execution_count": null,
   "metadata": {},
   "outputs": [],
   "source": [
    "vessel_data = data[:,:,:,0]\n",
    "volume_percent = 100.0*len(vessel_data[vessel_data > 0.5])/len(vessel_data.flatten())\n",
    "print(\"percentage of volume: %s\" % volume_percent)"
   ]
  },
  {
   "cell_type": "code",
   "execution_count": null,
   "metadata": {},
   "outputs": [],
   "source": [
    "nx, ny, nz = 123, 1024, 1024\n",
    "\n",
    "ncells = nx * ny * nz\n",
    "npoints = (nx + 1) * (ny + 1) * (nz + 1)\n",
    "# Variables\n",
    "vessel = np.random.rand(ncells).reshape( (nx, ny, nz), order = 'C')\n",
    "\n",
    "#vessel = vessel_data.reshape( (nx, ny, nz), order = 'C')\n",
    "for i in range(0,nx):\n",
    "    print(\"done z %s\" % i)\n",
    "    for j in range(0,ny):\n",
    "        for k in range(0,nz):\n",
    "            vessel[i][j][k] = vessel_data[i][j][k]#vessel_data[i+50][j+500][k+500]\n",
    "\n",
    "#temp = np.random.rand(npoints).reshape( (nx + 1, ny + 1, nz + 1)) <br>\n",
    "#imageToVTK(\"./image\", cellData = {\"pressure\" : 123, 1024, 1024123, 1024, 1024pressure}, pointData = {\"temp\" : temp} )\n",
    "imageToVTK(\"./vessel_image\", cellData = {\"vessel\" : vessel})"
   ]
  },
  {
   "cell_type": "markdown",
   "metadata": {},
   "source": [
    "# Calculate distance transform"
   ]
  },
  {
   "cell_type": "code",
   "execution_count": null,
   "metadata": {},
   "outputs": [],
   "source": [
    "vessel_distance = scipy.ndimage.morphology.distance_transform_edt(data[:,:,:,0])"
   ]
  },
  {
   "cell_type": "code",
   "execution_count": null,
   "metadata": {},
   "outputs": [],
   "source": [
    "fig, ax = plt.subplots(figsize=(15,15))\n",
    "ax.imshow(vessel_distance[50,:,:])"
   ]
  },
  {
   "cell_type": "code",
   "execution_count": null,
   "metadata": {},
   "outputs": [],
   "source": [
    "filename = \"/home/fjodor/Data/Lise/Series-1-z-stack-macrophages_Probabilities.h5\"\n",
    "\n",
    "\n",
    "with h5py.File(filename, \"r\") as f:\n",
    "    # List all groups\n",
    "    print(\"Keys: %s\" % f.keys())\n",
    "    a_group_key = list(f.keys())[0]\n",
    "    \n",
    "    print(a_group_key)\n",
    "\n",
    "    # Get the data\n",
    "    #data = list(f[a_group_key])[1:10]\n",
    "    data = np.array(f[a_group_key])\n",
    "    print(data.shape)"
   ]
  },
  {
   "cell_type": "code",
   "execution_count": null,
   "metadata": {},
   "outputs": [],
   "source": [
    "fig, ax = plt.subplots(figsize=(15,15))\n",
    "ax.imshow(data[100,:,:,0])"
   ]
  }
 ],
 "metadata": {
  "kernelspec": {
   "display_name": "Python 3",
   "language": "python",
   "name": "python3"
  },
  "language_info": {
   "codemirror_mode": {
    "name": "ipython",
    "version": 3
   },
   "file_extension": ".py",
   "mimetype": "text/x-python",
   "name": "python",
   "nbconvert_exporter": "python",
   "pygments_lexer": "ipython3",
   "version": "3.9.2"
  }
 },
 "nbformat": 4,
 "nbformat_minor": 4
}
