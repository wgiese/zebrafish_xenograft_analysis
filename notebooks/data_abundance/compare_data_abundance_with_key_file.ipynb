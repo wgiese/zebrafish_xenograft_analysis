{
 "cells": [
  {
   "cell_type": "code",
   "execution_count": null,
   "id": "6e6756fd",
   "metadata": {},
   "outputs": [],
   "source": [
    "import sys, os\n",
    "import numpy as np\n",
    "import pandas as pd\n",
    "from matplotlib import pyplot as plt\n",
    "import seaborn as sns\n",
    "\n",
    "sys.path.append(\"../../python-scripts/\")\n",
    "import functions_common"
   ]
  },
  {
   "cell_type": "markdown",
   "id": "dramatic-longitude",
   "metadata": {},
   "source": [
    "# add count data to macrophage and tumor data"
   ]
  },
  {
   "cell_type": "code",
   "execution_count": null,
   "id": "sporting-florence",
   "metadata": {},
   "outputs": [],
   "source": [
    "parameters = functions_common.read_parameters(base_params = \"../../python-scripts/base/parameters.yml\", \n",
    "                                              local_params = \"../../python-scripts/local/parameters.yml\")\n",
    "parameters"
   ]
  },
  {
   "cell_type": "code",
   "execution_count": null,
   "id": "c49dd4b7",
   "metadata": {},
   "outputs": [],
   "source": [
    "filename_tumor_1dpi = \"2023-02-01_tumor_volumes_1dpi.csv\"\n",
    "#filename_tumor_1dpi = \"tumor_volumes_and_distances_1dpi.csv\"\n",
    "data_tumor_1dpi = pd.read_csv(\"../data_raw/\" + filename_tumor_1dpi)\n",
    "filename_tumor_5dpi = \"2023-02-01_tumor_volumes_5dpi.csv\"\n",
    "#filename_tumor_5dpi = \"tumor_volumes_and_distances_5dpi.csv\"\n",
    "data_tumor_5dpi = pd.read_csv(\"../data_raw/\" + filename_tumor_5dpi)\n",
    "#filename = \"macrophage_count_1dpi_and_5dpi.csv\"\n",
    "#filename_macrophages = \"2023-01-23_macrophage_props_1dpi_and_5dpi.csv\"\n",
    "filename_macrophages = \"2023-02-03_macrophage_props_1dpi_and_5dpi.csv\"\n",
    "data_macrophages = pd.read_csv(\"../data_raw/\" + filename_macrophages)\n",
    "\n"
   ]
  },
  {
   "cell_type": "code",
   "execution_count": null,
   "id": "protective-victim",
   "metadata": {},
   "outputs": [],
   "source": [
    "def time_frame_to_min(macrophage_properties_,dpi):\n",
    "    \n",
    "    #dt_min = macrophage_properties_[\"dt_min\"].iloc[0]\n",
    "    macrophage_properties = macrophage_properties_.copy()\n",
    "    # macrophage_properties[\"circularity\"] = 4.0*macrophage_properties[\"Area\"]/(np.pi*macrophage_properties[\"perimeter_px\"]) \n",
    "   \n",
    "    macrophage_properties[\"time_in_min\"] = macrophage_properties[\"time_point\"]*macrophage_properties_[\"dt_min\"] + start_time_points[dpi]\n",
    "    macrophage_properties[\"time_in_h\"] = macrophage_properties[\"time_in_min\"]/60.0\n",
    "    macrophage_properties[\"dpi\"] = dpi\n",
    "\n",
    "    return macrophage_properties"
   ]
  },
  {
   "cell_type": "code",
   "execution_count": null,
   "id": "attempted-group",
   "metadata": {},
   "outputs": [],
   "source": [
    "start_time_points = parameters[\"start_time\"]\n",
    "end_time_points = parameters[\"end_time\"]\n",
    "print(start_time_points)\n",
    "start_1dpi = start_time_points['1dpi']\n",
    "start_5dpi = start_time_points['5dpi']"
   ]
  },
  {
   "cell_type": "code",
   "execution_count": null,
   "id": "pressed-symbol",
   "metadata": {},
   "outputs": [],
   "source": [
    "#data_macrophages_1dpi = data_macrophages[data_macrophages[\"dpi\"] == \"1dpi\"]\n",
    "#data_macrophages_5dpi = data_macrophages[data_macrophages[\"dpi\"] == \"5dpi\"]\n",
    "#data_macrophages_1dpi = time_frame_to_min(data_macrophages_1dpi,\"1dpi\")\n",
    "#data_macrophages_5dpi = time_frame_to_min(data_macrophages_5dpi,\"5dpi\")\n",
    "#data_macrophages = pd.concat([data_macrophages_1dpi, data_macrophages_5dpi], ignore_index = True)"
   ]
  },
  {
   "cell_type": "code",
   "execution_count": null,
   "id": "bb4e0cde",
   "metadata": {},
   "outputs": [],
   "source": [
    "def add_fish_nr(data):\n",
    "    \n",
    "    for index, row in data.iterrows():\n",
    "\n",
    "        cancer_cells = row['cancer_cells']\n",
    "        data_ = data[data[\"time_in_min\"]== row[\"time_in_min\"]]\n",
    "        data_ = data_[data_['cancer_cells'] == cancer_cells]\n",
    "        data.at[index, 'nr_of_fish'] = len(data_['fish_id'].unique()) \n",
    "\n",
    "        print(data_['fish_id'].unique())\n",
    "        \n",
    "    return data\n"
   ]
  },
  {
   "cell_type": "code",
   "execution_count": null,
   "id": "03f53a9a",
   "metadata": {},
   "outputs": [],
   "source": [
    "data_macrophages = add_fish_nr(data_macrophages)\n",
    "data_tumor_1dpi = add_fish_nr(data_tumor_1dpi)\n",
    "data_tumor_5dpi = add_fish_nr(data_tumor_5dpi)\n",
    "data_macrophages.to_csv(filename_macrophages, index = False)\n",
    "data_tumor_1dpi.to_csv(filename_tumor_1dpi, index = False)\n",
    "data_tumor_5dpi.to_csv(filename_tumor_5dpi, index = False)"
   ]
  },
  {
   "cell_type": "markdown",
   "id": "average-harvey",
   "metadata": {},
   "source": [
    "# compute count data from key file"
   ]
  },
  {
   "cell_type": "code",
   "execution_count": null,
   "id": "marked-cambodia",
   "metadata": {},
   "outputs": [],
   "source": [
    "key_file = functions_common.read_key_file(parameters)\n",
    "print(key_file.columns)\n",
    "key_file.head()"
   ]
  },
  {
   "cell_type": "code",
   "execution_count": null,
   "id": "respective-dragon",
   "metadata": {},
   "outputs": [],
   "source": [
    "for index, row in key_file.iterrows():\n",
    "    dpi = \"%sdpi\" % row['dpi']\n",
    "    #print(dpi)\n",
    "    key_file.at[index, 't_start_min'] = row['t_start']*row['dt_min'] + start_time_points[dpi]\n",
    "    key_file.at[index, 't_end_min'] = row['t_end']*row['dt_min'] + start_time_points[dpi]\n",
    "    key_file.at[index, 't_start_h'] = key_file.at[index, 't_start_min']/60.0\n",
    "    key_file.at[index, 't_end_h'] = key_file.at[index, 't_end_min']/60.0\n",
    "    \n",
    "key_file_1dpi = key_file[key_file['dpi']==1]\n",
    "end_1dpi = key_file_1dpi['t_end_min'].max()\n",
    "print(end_1dpi)\n",
    "\n",
    "key_file_5dpi = key_file[key_file['dpi']==5]\n",
    "end_5dpi = key_file_5dpi['t_end_min'].max()\n",
    "print(end_5dpi)"
   ]
  },
  {
   "cell_type": "code",
   "execution_count": null,
   "id": "architectural-karaoke",
   "metadata": {},
   "outputs": [],
   "source": [
    "#data_macrophages_1dpi[\"dpi\"]"
   ]
  },
  {
   "cell_type": "code",
   "execution_count": null,
   "id": "modular-visitor",
   "metadata": {},
   "outputs": [],
   "source": []
  },
  {
   "cell_type": "code",
   "execution_count": null,
   "id": "restricted-roller",
   "metadata": {},
   "outputs": [],
   "source": []
  },
  {
   "cell_type": "code",
   "execution_count": null,
   "id": "celtic-tradition",
   "metadata": {},
   "outputs": [],
   "source": [
    "obs_time_points = np.arange(start_1dpi,end_5dpi,60)\n",
    "print(obs_time_points)\n",
    "\n",
    "count_df = pd.DataFrame()\n",
    "count_df = pd.DataFrame()\n",
    "index = 0\n",
    "\n",
    "for time in obs_time_points:\n",
    "    \n",
    "    dpi = 1\n",
    "    if time >= start_5dpi:\n",
    "        dpi = 5\n",
    "    \n",
    "    sub_df = key_file[key_file['t_end_min'] > time]\n",
    "    sub_df = sub_df[sub_df['dpi'] == dpi]\n",
    "       \n",
    "    if len(sub_df.index) > 0:\n",
    "    \n",
    "        for cancer_cells in sub_df['cancer_cells'].unique():\n",
    "            n = len(sub_df[sub_df[\"cancer_cells\"] == cancer_cells][\"short_name\"].unique())\n",
    "            \n",
    "            #sub_df.groupby(['cancer_cells'])['short_name'].count()\n",
    "            \n",
    "            count_df.at[index, 'time_in_min'] = time\n",
    "            count_df.at[index, 'time_in_h'] = time/60.0\n",
    "            count_df.at[index, 'cancer_cells'] = cancer_cells\n",
    "            count_df.at[index, 'nr_of_fish'] = n\n",
    "            count_df.at[index, 'dpi'] = dpi\n",
    "            \n",
    "            index += 1"
   ]
  },
  {
   "cell_type": "code",
   "execution_count": null,
   "id": "annoying-western",
   "metadata": {},
   "outputs": [],
   "source": [
    "sns.set_style(\"whitegrid\")\n",
    "fig, ax = plt.subplots(2, figsize=(10,20))\n",
    "count_1dpi_df = count_df[count_df['dpi']==1]\n",
    "count_1dpi_df = count_1dpi_df[count_1dpi_df['time_in_min'] <= end_1dpi]\n",
    "data_tumor_1dpi_ = data_tumor_1dpi[data_tumor_1dpi[\"time_in_min\"].isin(obs_time_points)]\n",
    "\n",
    "#ax[0].set_xlim(start_1dpi/60.0, end_1dpi/60.0 + 1.0)\n",
    "\n",
    "max_time = max([data_tumor_1dpi[\"time_in_h\"].max(), end_1dpi/60.0])\n",
    "ax[0].set_xlim(start_1dpi/60.0, max_time)\n",
    "ax[0].set_ylim(0.0, count_df['nr_of_fish'].max() + 3)\n",
    "ax[0].set_ylabel(\"#samples\")\n",
    "ax[0].set_xlabel(\"time in h\")\n",
    "ax[0].set_title(\"abundance from key file (1dpi)\")\n",
    "ax[1].set_xlim(start_1dpi/60.0, max_time)\n",
    "ax[1].set_ylim(0.0, count_df['nr_of_fish'].max() + 3)\n",
    "ax[1].set_ylabel(\"#samples\")\n",
    "ax[1].set_xlabel(\"time in h\")\n",
    "ax[1].set_title(\"abundance tumor volumes (1dpi)\")\n",
    "sns.lineplot(x = \"time_in_h\",  y= \"nr_of_fish\", hue= \"cancer_cells\", data= count_1dpi_df, ax=ax[0], linewidth = 5.0)\n",
    "sns.lineplot(x = \"time_in_h\",  y= \"nr_of_fish\", hue= \"cancer_cells\", data= data_tumor_1dpi_ , ax=ax[1], linewidth = 5.0)\n",
    "plt.legend(bbox_to_anchor=(1.05, 1), loc=2, borderaxespad=0.)\n",
    "plt.savefig(\"data_abundance_tumor_1dpi_over_time.pdf\")"
   ]
  },
  {
   "cell_type": "code",
   "execution_count": null,
   "id": "crucial-indicator",
   "metadata": {},
   "outputs": [],
   "source": [
    "data_tumor_1dpi_missing_sample = data_tumor_1dpi_[data_tumor_1dpi_[\"time_in_h\"] == 36.0]\n",
    "data_tumor_1dpi_missing_sample = data_tumor_1dpi_missing_sample[data_tumor_1dpi_missing_sample[\"cancer_cells\"] == \"LBT003\"]\n",
    "print(data_tumor_1dpi_missing_sample[\"short_name\"].unique())\n",
    "missing = data_tumor_1dpi_missing_sample[\"short_name\"].unique()\n",
    "all_samples = data_tumor_1dpi_[data_tumor_1dpi_[\"time_in_h\"] == 30.0]\n",
    "print(all_samples[all_samples[\"cancer_cells\"]==\"LBT003\"][\"short_name\"].unique())\n",
    "all_ =all_samples[all_samples[\"cancer_cells\"]==\"LBT003\"][\"short_name\"].unique()\n",
    "for sample in all_:\n",
    "    if not (sample in all_):\n",
    "        print(sample)\n",
    "    "
   ]
  },
  {
   "cell_type": "code",
   "execution_count": null,
   "id": "split-blast",
   "metadata": {},
   "outputs": [],
   "source": [
    "for sample in all_:\n",
    "    if not (sample in missing):\n",
    "        print(sample)"
   ]
  },
  {
   "cell_type": "code",
   "execution_count": null,
   "id": "danish-tablet",
   "metadata": {},
   "outputs": [],
   "source": [
    "sns.set_style(\"whitegrid\")\n",
    "fig, ax = plt.subplots(2, figsize=(10,20))\n",
    "count_5dpi_df = count_df[count_df['dpi']==5]\n",
    "count_5dpi_df = count_5dpi_df[count_5dpi_df['time_in_min'] >= start_5dpi]\n",
    "data_tumor_5dpi_ = data_tumor_5dpi[data_tumor_5dpi[\"time_in_min\"].isin(obs_time_points)]\n",
    "#ax[0].set_xlim(start_1dpi/60.0, end_1dpi/60.0 + 1.0)\n",
    "\n",
    "max_time = max([data_tumor_5dpi[\"time_in_h\"].max(), end_5dpi/60.0])\n",
    "ax[0].set_xlim(start_5dpi/60.0, max_time)\n",
    "ax[0].set_ylim(0.0, count_df['nr_of_fish'].max() + 3)\n",
    "ax[0].set_ylabel(\"#samples\")\n",
    "ax[0].set_xlabel(\"time in h\")\n",
    "ax[0].set_title(\"abundance from key file (5dpi)\")\n",
    "ax[1].set_ylim(0.0, count_df['nr_of_fish'].max() + 3)\n",
    "ax[1].set_xlim(start_5dpi/60.0, max_time)\n",
    "ax[1].set_ylabel(\"#samples\")\n",
    "ax[1].set_xlabel(\"time in h\")\n",
    "ax[1].set_title(\"abundance tumor volumes (5dpi)\")\n",
    "sns.lineplot(x = \"time_in_h\",  y= \"nr_of_fish\", hue= \"cancer_cells\", data= count_5dpi_df, ax=ax[0], linewidth = 5.0)\n",
    "sns.lineplot(x = \"time_in_h\",  y= \"nr_of_fish\", hue= \"cancer_cells\", data= data_tumor_5dpi_, ax=ax[1], linewidth = 5.0)\n",
    "plt.legend(bbox_to_anchor=(1.05, 1), loc=2, borderaxespad=0.)\n",
    "plt.savefig(\"data_abundance_tumor_5dpi_over_time.pdf\")"
   ]
  },
  {
   "cell_type": "code",
   "execution_count": null,
   "id": "hawaiian-confidentiality",
   "metadata": {},
   "outputs": [],
   "source": [
    "sns.set_style(\"whitegrid\")\n",
    "fig, ax = plt.subplots(2, figsize=(10,20))\n",
    "count_5dpi_df = count_df[count_df['dpi']==5]\n",
    "count_5dpi_df = count_5dpi_df[count_5dpi_df['time_in_min'] >= start_5dpi]\n",
    "data_macrophages_5dpi_  = data_macrophages[data_macrophages ['dpi']==\"5dpi\"]\n",
    "data_macrophages_5dpi_ = data_macrophages_5dpi_[data_macrophages_5dpi_[\"time_in_min\"].isin(obs_time_points)]\n",
    "\n",
    "max_time = max([data_macrophages_5dpi_[\"time_in_h\"].max(), end_5dpi/60.0])\n",
    "ax[0].set_xlim(start_5dpi/60.0, max_time)\n",
    "ax[0].set_ylim(0.0, count_df['nr_of_fish'].max() + 3)\n",
    "ax[0].set_ylabel(\"#samples\")\n",
    "ax[0].set_xlabel(\"time in h\")\n",
    "ax[0].set_title(\"abundance from key file (5dpi)\")\n",
    "ax[0].set_xlim(start_5dpi/60.0, max_time)\n",
    "ax[1].set_ylim(0.0, count_df['nr_of_fish'].max() + 3)\n",
    "ax[1].set_ylabel(\"#samples\")\n",
    "ax[1].set_xlabel(\"time in h\")\n",
    "ax[1].set_title(\"abundance macrophages (5dpi)\")\n",
    "sns.lineplot(x = \"time_in_h\",  y= \"nr_of_fish\", hue= \"cancer_cells\", data= count_5dpi_df, ax=ax[0], linewidth = 5.0)\n",
    "sns.lineplot(x = \"time_in_h\",  y= \"nr_of_fish\", hue= \"cancer_cells\", data= data_macrophages_5dpi_, ax=ax[1], linewidth = 5.0)\n",
    "plt.legend(bbox_to_anchor=(1.05, 1), loc=2, borderaxespad=0.)\n",
    "plt.savefig(\"data_abundance_macrophages_5dpi_over_time.pdf\")"
   ]
  },
  {
   "cell_type": "code",
   "execution_count": null,
   "id": "communist-faculty",
   "metadata": {},
   "outputs": [],
   "source": [
    "sns.set_style(\"whitegrid\")\n",
    "fig, ax = plt.subplots(2, figsize=(10,20))\n",
    "count_1dpi_df = count_df[count_df['dpi']==1]\n",
    "count_1dpi_df = count_1dpi_df[count_1dpi_df['time_in_min'] <= end_1dpi]\n",
    "#ax[0].set_xlim(start_1dpi/60.0, end_1dpi/60.0 + 1.0)\n",
    "data_macrophages_1dpi_ = data_macrophages[data_macrophages ['dpi']==\"1dpi\"]\n",
    "data_macrophages_1dpi_ = data_macrophages_1dpi_[data_macrophages_1dpi_[\"time_in_min\"].isin(obs_time_points)]\n",
    "\n",
    "\n",
    "max_time = max([data_macrophages_1dpi_[\"time_in_h\"].max(), end_1dpi/60.0])\n",
    "ax[0].set_xlim(start_1dpi/60.0, max_time)\n",
    "ax[0].set_ylim(0.0, count_df['nr_of_fish'].max() + 3)\n",
    "ax[0].set_ylabel(\"#samples\")\n",
    "ax[0].set_xlabel(\"time in h\")\n",
    "ax[0].set_title(\"abundance from key file (1dpi)\")\n",
    "ax[1].set_xlim(start_1dpi/60.0, max_time)\n",
    "ax[1].set_ylim(0.0, count_df['nr_of_fish'].max() + 3)\n",
    "ax[1].set_ylabel(\"#samples\")\n",
    "ax[1].set_xlabel(\"time in h\")\n",
    "ax[1].set_title(\"abundance macrophages (1dpi)\")\n",
    "sns.lineplot(x = \"time_in_h\",  y= \"nr_of_fish\", hue= \"cancer_cells\", data= count_1dpi_df, ax=ax[0], linewidth = 5.0)\n",
    "sns.lineplot(x = \"time_in_h\",  y= \"nr_of_fish\", hue= \"cancer_cells\", data= data_macrophages_1dpi_, ax=ax[1], linewidth = 5.0)\n",
    "plt.legend(bbox_to_anchor=(1.05, 1), loc=2, borderaxespad=0.)\n",
    "plt.savefig(\"data_abundance_macrophages_1dpi_over_time.pdf\")"
   ]
  }
 ],
 "metadata": {
  "kernelspec": {
   "display_name": "Python 3",
   "language": "python",
   "name": "python3"
  },
  "language_info": {
   "codemirror_mode": {
    "name": "ipython",
    "version": 3
   },
   "file_extension": ".py",
   "mimetype": "text/x-python",
   "name": "python",
   "nbconvert_exporter": "python",
   "pygments_lexer": "ipython3",
   "version": "3.8.8"
  }
 },
 "nbformat": 4,
 "nbformat_minor": 5
}
