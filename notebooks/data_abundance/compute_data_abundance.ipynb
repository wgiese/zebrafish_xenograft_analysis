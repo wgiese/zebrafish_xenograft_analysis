{
 "cells": [
  {
   "cell_type": "code",
   "execution_count": null,
   "id": "6e6756fd",
   "metadata": {},
   "outputs": [],
   "source": [
    "import pandas as pd"
   ]
  },
  {
   "cell_type": "code",
   "execution_count": null,
   "id": "c49dd4b7",
   "metadata": {},
   "outputs": [],
   "source": [
    "#filename = \"tumor_volumes_and_distances_1dpi.csv\"\n",
    "#filename = \"tumor_volumes_and_distances_5dpi.csv\"\n",
    "#filename = \"macrophage_count_1dpi_and_5dpi.csv\"\n",
    "filename = \"2023-01-23_macrophage_props_1dpi_and_5dpi.csv\"\n",
    "\n",
    "\n",
    "data = pd.read_csv(\"../data_raw/\" + filename)"
   ]
  },
  {
   "cell_type": "code",
   "execution_count": null,
   "id": "bb4e0cde",
   "metadata": {},
   "outputs": [],
   "source": [
    "for index, row in data.iterrows():\n",
    "    \n",
    "    cancer_cells = row['cancer_cells']\n",
    "    data_ = data[data[\"time_in_min\"]== row[\"time_in_min\"]]\n",
    "    data_ = data_[data_['cancer_cells'] == cancer_cells]\n",
    "    data.at[index, 'nr_of_fish'] = len(data_['fish_id'].unique()) \n",
    "    \n",
    "    print(data_['fish_id'].unique())\n"
   ]
  },
  {
   "cell_type": "code",
   "execution_count": null,
   "id": "03f53a9a",
   "metadata": {},
   "outputs": [],
   "source": [
    "data"
   ]
  },
  {
   "cell_type": "code",
   "execution_count": null,
   "id": "70e3e8ac",
   "metadata": {},
   "outputs": [],
   "source": [
    "data.to_csv(filename, index = False)"
   ]
  }
 ],
 "metadata": {
  "kernelspec": {
   "display_name": "Python 3",
   "language": "python",
   "name": "python3"
  },
  "language_info": {
   "codemirror_mode": {
    "name": "ipython",
    "version": 3
   },
   "file_extension": ".py",
   "mimetype": "text/x-python",
   "name": "python",
   "nbconvert_exporter": "python",
   "pygments_lexer": "ipython3",
   "version": "3.8.8"
  }
 },
 "nbformat": 4,
 "nbformat_minor": 5
}
